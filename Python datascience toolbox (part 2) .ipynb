{
 "cells": [
  {
   "cell_type": "markdown",
   "id": "98f04fcf",
   "metadata": {},
   "source": [
    "\n",
    "# learning outcomes \n",
    "\n",
    "1) create lists with list comprehensions and generators (wrangle data in lists to create other lists) \n",
    "\n",
    "2) iterators- rapildy iterate data science tools over sets of objects\n",
    "\n",
    "    3)User defined functions\n",
    "    4) List comprehensions and generators\n",
    "    "
   ]
  },
  {
   "cell_type": "code",
   "execution_count": null,
   "id": "57945436",
   "metadata": {},
   "outputs": [],
   "source": []
  },
  {
   "cell_type": "code",
   "execution_count": null,
   "id": "a1f70025",
   "metadata": {
    "scrolled": true
   },
   "outputs": [],
   "source": [
    "# iterators is just iteration over the list for example\n",
    "\n",
    "students = ['Kunal', 'Sorav', 'Harman']\n",
    "for a in students:\n",
    "    print (a)\n",
    "    "
   ]
  },
  {
   "cell_type": "code",
   "execution_count": null,
   "id": "942b7aa7",
   "metadata": {
    "scrolled": true
   },
   "outputs": [],
   "source": [
    "# iteration over the characters of a string\n",
    "\n",
    "for a in 'banana':\n",
    "    print (a)"
   ]
  },
  {
   "cell_type": "code",
   "execution_count": null,
   "id": "3a985c7a",
   "metadata": {
    "scrolled": true
   },
   "outputs": [],
   "source": [
    "# iteration over range objects \n",
    "for i in range(4):\n",
    "    print (i)\n",
    "    "
   ]
  },
  {
   "cell_type": "code",
   "execution_count": null,
   "id": "c7a7491a",
   "metadata": {
    "scrolled": true
   },
   "outputs": [],
   "source": [
    "# examples of iterables- lists, strings, dictionairies, file connections \n",
    "\n",
    "# now, more about iterables \n",
    "\n",
    "name = 'Kunal'\n",
    "it = iter(name)\n",
    "next(it)              #once the function is defined, we pass on to the next value"
   ]
  },
  {
   "cell_type": "code",
   "execution_count": null,
   "id": "d1e0033b",
   "metadata": {
    "scrolled": true
   },
   "outputs": [],
   "source": [
    "next(it)"
   ]
  },
  {
   "cell_type": "code",
   "execution_count": null,
   "id": "65555a99",
   "metadata": {
    "scrolled": true
   },
   "outputs": [],
   "source": [
    "next(it)"
   ]
  },
  {
   "cell_type": "code",
   "execution_count": null,
   "id": "8fc14863",
   "metadata": {
    "scrolled": true
   },
   "outputs": [],
   "source": [
    "next(it)"
   ]
  },
  {
   "cell_type": "code",
   "execution_count": null,
   "id": "92396a87",
   "metadata": {
    "scrolled": true
   },
   "outputs": [],
   "source": [
    "next(it)"
   ]
  },
  {
   "cell_type": "code",
   "execution_count": null,
   "id": "38f80b88",
   "metadata": {
    "scrolled": true
   },
   "outputs": [],
   "source": [
    "next(it)"
   ]
  },
  {
   "cell_type": "code",
   "execution_count": null,
   "id": "d25a8004",
   "metadata": {
    "scrolled": true
   },
   "outputs": [],
   "source": [
    "# iterating all at once with *              # also called splat operator\n",
    "\n",
    "\n",
    "word = 'Data Science'\n",
    "it = iter (word)\n",
    "print (* it)    # once we're done we need to redefine our iterator to proceed! "
   ]
  },
  {
   "cell_type": "code",
   "execution_count": null,
   "id": "bb6ed0b2",
   "metadata": {
    "scrolled": true
   },
   "outputs": [],
   "source": [
    "# itearting over dictionaires \n",
    "\n",
    "Pythonists = {'Kunal': 'India', 'Hugo': 'USA'}\n",
    "\n",
    "for key, value in Pythonists.items():      \n",
    "                        #we need to unpack dictionnaires by applying the items method over dictionaires\n",
    "    print (key, value)"
   ]
  },
  {
   "cell_type": "code",
   "execution_count": null,
   "id": "a38aae9f",
   "metadata": {
    "scrolled": true
   },
   "outputs": [],
   "source": [
    "# iterating over file connections\n",
    "\n",
    "file = open ('file.txt')\n",
    "it = iter(file)\n",
    "print (next(it))"
   ]
  },
  {
   "cell_type": "code",
   "execution_count": null,
   "id": "1f17b5a4",
   "metadata": {
    "scrolled": true
   },
   "outputs": [],
   "source": [
    "# continuation\n",
    "\n",
    "print (next(it))"
   ]
  },
  {
   "cell_type": "code",
   "execution_count": null,
   "id": "4325c21a",
   "metadata": {
    "scrolled": true
   },
   "outputs": [],
   "source": [
    "values = range (20, 21)\n",
    "print (values)"
   ]
  },
  {
   "cell_type": "code",
   "execution_count": null,
   "id": "9c599c23",
   "metadata": {
    "scrolled": true
   },
   "outputs": [],
   "source": [
    "# Create a range object: values\n",
    "values = range (10, 21)\n",
    "\n",
    "# Print the range object\n",
    "print(values)\n",
    "\n",
    "# Create a list of integers: values_list\n",
    "values_list = list (values)\n",
    "\n",
    "# Print values_list\n",
    "print(values_list)\n",
    "\n",
    "# Get the sum of values: values_sum\n",
    "values_sum = sum (values)\n",
    "\n",
    "# Print values_sum\n",
    "print(values_sum)\n"
   ]
  },
  {
   "cell_type": "markdown",
   "id": "28af24ce",
   "metadata": {},
   "source": [
    "# now comes the use of enumerate() and zip() function\n",
    "\n",
    "    unpacking enumerate function using a for loop\n",
    "    \n"
   ]
  },
  {
   "cell_type": "code",
   "execution_count": null,
   "id": "18360563",
   "metadata": {
    "scrolled": true
   },
   "outputs": [],
   "source": [
    "francisation = ['peyman', 'Kunal', 'Ève-Annie', 'Gussipie']\n",
    "e = enumerate (francisation)\n",
    "print (e)     #it has elements along with their iterables along with their index "
   ]
  },
  {
   "cell_type": "code",
   "execution_count": null,
   "id": "3d0b7962",
   "metadata": {
    "scrolled": true
   },
   "outputs": [],
   "source": [
    "print (list(e))           # we use list function to print it convert it into a list of tuples and see!"
   ]
  },
  {
   "cell_type": "code",
   "execution_count": null,
   "id": "a1bc2b4b",
   "metadata": {
    "scrolled": true
   },
   "outputs": [],
   "source": [
    "for x,y in enumerate(francisation):               #default in enumerate function = 0\n",
    "    print (x,y)"
   ]
  },
  {
   "cell_type": "code",
   "execution_count": null,
   "id": "2623a055",
   "metadata": {
    "scrolled": true
   },
   "outputs": [],
   "source": [
    "for x,y in enumerate (francisation, start=6):         #altering the starting value\n",
    "    print (x,y)"
   ]
  },
  {
   "cell_type": "code",
   "execution_count": null,
   "id": "b2c17c8d",
   "metadata": {
    "scrolled": true
   },
   "outputs": [],
   "source": [
    "cours = ['FIA-330', 'FIA 330-3c', 'Prof', 'éleve', 'nothing']\n",
    "z = zip (francisation, cours)\n",
    "print (type(z))"
   ]
  },
  {
   "cell_type": "code",
   "execution_count": null,
   "id": "7d9eebae",
   "metadata": {
    "scrolled": true
   },
   "outputs": [],
   "source": [
    "z_list = list(z)\n",
    "print (z_list)"
   ]
  },
  {
   "cell_type": "code",
   "execution_count": null,
   "id": "6d71c176",
   "metadata": {
    "scrolled": true
   },
   "outputs": [],
   "source": [
    "# using zip with a for loop\n",
    "for x,y in zip(francisation, cours):\n",
    "    print (x,y)"
   ]
  },
  {
   "cell_type": "code",
   "execution_count": null,
   "id": "8c1a1e88",
   "metadata": {
    "scrolled": true
   },
   "outputs": [],
   "source": [
    "#printing the same thing with a splat operator\n",
    "print (*z)"
   ]
  },
  {
   "cell_type": "code",
   "execution_count": null,
   "id": "fe67f06b",
   "metadata": {
    "scrolled": true
   },
   "outputs": [],
   "source": [
    "# Create a list of strings: mutants\n",
    "mutants = ['charles xavier', \n",
    "            'bobby drake', \n",
    "            'kurt wagner', \n",
    "            'max eisenhardt', \n",
    "            'kitty pryde']\n",
    "\n",
    "# Create a list of tuples: mutant_list\n",
    "mutant_list = list (enumerate(mutants))\n",
    "\n",
    "# Print the list of tuples\n",
    "print(mutant_list)\n",
    "\n",
    "# Unpack and print the tuple pairs\n",
    "for index1, value1 in enumerate(mutants):\n",
    "    print(index1, value1)\n",
    "\n",
    "# Change the start index\n",
    "for index2, value2 in enumerate(mutants, start=1):\n",
    "    print(index2, value2)"
   ]
  },
  {
   "cell_type": "code",
   "execution_count": null,
   "id": "8750ba99",
   "metadata": {
    "scrolled": true
   },
   "outputs": [],
   "source": [
    "# Create a zip object from mutants and powers: z1\n",
    "z1 = zip (mutants, powers)\n",
    "\n",
    "# Print the tuples in z1 by unpacking with *\n",
    "print(*z1)\n",
    "\n",
    "# Re-create a zip object from mutants and powers: z1\n",
    "z1 = zip (mutants, powers)\n",
    "\n",
    "# 'Unzip' the tuples in z1 by unpacking with * and zip(): result1, result2\n",
    "result1, result2 = (*z1)\n",
    "\n",
    "# Check if unpacked tuples are equivalent to original tuples\n",
    "print(result1 == mutants)\n",
    "print(result2 == powers)"
   ]
  },
  {
   "cell_type": "markdown",
   "id": "19896e09",
   "metadata": {},
   "source": [
    "# using iterators to load large files in the memory\n",
    "\n",
    "\n",
    "\n",
    "# loading data in chunks \n",
    "\n",
    "    get started with workings on the orignal data!\n",
    "    \n",
    "    Initializing the dictionary is like initializing the emplty list, but with curly brackets\n"
   ]
  },
  {
   "cell_type": "code",
   "execution_count": null,
   "id": "a40709cf",
   "metadata": {
    "scrolled": true
   },
   "outputs": [],
   "source": [
    "import pandas as pd\n",
    "result =  []\n",
    "for chunk in pd.read_csv('gender_sumbmission_desktop.csv', chunksize = 1000):\n",
    "    result.append(sum(chunk['X']))\n",
    "total = sum (result)\n",
    "print (total)\n",
    "\n",
    "# 'X' is a csv with a colomn containing X"
   ]
  },
  {
   "cell_type": "code",
   "execution_count": null,
   "id": "fd2f4c3e",
   "metadata": {
    "scrolled": true
   },
   "outputs": [],
   "source": [
    "# other method\n",
    "\n",
    "total = 0\n",
    "for chunk in pd.read_csv('data.csv', chunksize=1000):\n",
    "    total += sum(chunk['X'])\n",
    "print (total)\n",
    "\n",
    "\n"
   ]
  },
  {
   "cell_type": "code",
   "execution_count": null,
   "id": "909e43c0",
   "metadata": {
    "scrolled": true
   },
   "outputs": [],
   "source": [
    "# Initialize an empty dictionary: counts_dict\n",
    "counts_dict ={}        #in list = [], in dictionary = {}\n",
    "# Iterate over the file chunk by chunk\n",
    "for chunk in pd.read_csv ('tweets.csv', chunksize = 10):\n",
    "\n",
    "    # Iterate over the column in DataFrame\n",
    "    for entry in chunk['lang']:\n",
    "        if entry in counts_dict.keys():\n",
    "            counts_dict[entry] += 1\n",
    "        else:\n",
    "            counts_dict[entry] = 1\n",
    "\n",
    "# Print the populated dictionary\n",
    "print(counts_dict)\n"
   ]
  },
  {
   "cell_type": "markdown",
   "id": "87107098",
   "metadata": {},
   "source": [
    "# list comprehenstions(LC) and generators\n",
    "\n",
    "    helps to create lists from another lists, DataFrame columns, etc. \n",
    "    Extract data from world bank indicators developmental dataset\n",
    "    \n",
    "    LC collapses the for loop to build a code in a single line\n",
    "    components(3)- iterable, iterator variable, output expression\n"
   ]
  },
  {
   "cell_type": "code",
   "execution_count": null,
   "id": "980b8f6c",
   "metadata": {
    "scrolled": true
   },
   "outputs": [],
   "source": [
    "# creating a list with one line code\n",
    "\n",
    "nums = [12,8,21,3,16]\n",
    "new_nums = []\n",
    "for num in nums:\n",
    "    new_nums.append(num+1)\n",
    "print (new_nums)\n"
   ]
  },
  {
   "cell_type": "code",
   "execution_count": null,
   "id": "f8552aa7",
   "metadata": {
    "scrolled": true
   },
   "outputs": [],
   "source": [
    "# syntax- within square brackets, we write the values we wish to create followed by for claue refering to orignal clause\n",
    " \n",
    "another_way= [num + 1 for num in nums]       #square clause + values to be created+ for\n",
    "print (another_way)"
   ]
  },
  {
   "cell_type": "code",
   "execution_count": null,
   "id": "10f3d4d5",
   "metadata": {
    "scrolled": true
   },
   "outputs": [],
   "source": [
    "# list comprehension with range\n",
    "\n",
    "for a in range(10):\n",
    "    print (a)"
   ]
  },
  {
   "cell_type": "code",
   "execution_count": null,
   "id": "0f80a729",
   "metadata": {
    "scrolled": true
   },
   "outputs": [],
   "source": [
    "result = [num for num in range(10)]\n",
    "print (result)"
   ]
  },
  {
   "cell_type": "code",
   "execution_count": null,
   "id": "5b4e2d8d",
   "metadata": {
    "scrolled": true
   },
   "outputs": [],
   "source": [
    "# nested loop (one loop in another)\n",
    "\n",
    "create_pairs = []\n",
    "for num1 in range(0,2):\n",
    "    for num2 in range(1,5):\n",
    "        create_pairs.append((num1, num2))\n",
    "print (create_pairs)"
   ]
  },
  {
   "cell_type": "code",
   "execution_count": null,
   "id": "066656cf",
   "metadata": {
    "scrolled": true
   },
   "outputs": [],
   "source": [
    "create_pairs1 = [(num1, num2) for num1 in range(0,2) for num2 in range(1,5)]\n",
    "print (create_pairs1)"
   ]
  },
  {
   "cell_type": "code",
   "execution_count": null,
   "id": "a5a9a855",
   "metadata": {
    "scrolled": true
   },
   "outputs": [],
   "source": [
    "code = [tds for tds in range(20)]\n",
    "print (code)"
   ]
  },
  {
   "cell_type": "code",
   "execution_count": null,
   "id": "1578c9e6",
   "metadata": {
    "scrolled": true
   },
   "outputs": [],
   "source": [
    "code2 = [a for a in range(20)]\n",
    "print (code2)                             # we cannot iterate over integer object in the list comprehensions"
   ]
  },
  {
   "cell_type": "code",
   "execution_count": null,
   "id": "4b9ac7a6",
   "metadata": {
    "scrolled": true
   },
   "outputs": [],
   "source": [
    "# again [[output expression] + for + interator variable in iterable]\n",
    "\n",
    "\n",
    "matrix = [(col1, col2) for col1 in range(5) for col2 in range(5)] \n",
    "for (col1, col2) in matrix:\n",
    "    print (matrix)                   # played with the for loop; results varied a lot"
   ]
  },
  {
   "cell_type": "code",
   "execution_count": null,
   "id": "a965535e",
   "metadata": {
    "scrolled": true
   },
   "outputs": [],
   "source": [
    "print (matrix)             # without the for loop; result"
   ]
  },
  {
   "cell_type": "code",
   "execution_count": null,
   "id": "091a7d93",
   "metadata": {
    "scrolled": true
   },
   "outputs": [],
   "source": [
    "matrix2 = [[col for col in range(3)] for row in range (5)]\n",
    "for row in matrix2:\n",
    "    print (row)"
   ]
  },
  {
   "cell_type": "code",
   "execution_count": null,
   "id": "dbe8f6d1",
   "metadata": {
    "scrolled": true
   },
   "outputs": [],
   "source": [
    "# conditional on the iterables using list comprehension\n",
    "[num **2 for num in range(10) if num %2 ==0]"
   ]
  },
  {
   "cell_type": "code",
   "execution_count": null,
   "id": "877d2c50",
   "metadata": {
    "scrolled": true
   },
   "outputs": [],
   "source": [
    "[num**2 if num % 2 ==0 else 1 for num in range (10)]       # we replaced all the odd squares by 1"
   ]
  },
  {
   "cell_type": "code",
   "execution_count": null,
   "id": "1a07e744",
   "metadata": {
    "scrolled": true
   },
   "outputs": [],
   "source": [
    "# dictionary comprehension (2 differences)-\n",
    "# 1) curly {} brackets instead of square.\n",
    "# 2) key : value (seperated my the semi-colon) \n",
    "\n",
    "dic_comp = {num: -num for num in range(9)}\n",
    "print (dic_comp)"
   ]
  },
  {
   "cell_type": "code",
   "execution_count": null,
   "id": "afa7c78e",
   "metadata": {
    "scrolled": true
   },
   "outputs": [],
   "source": [
    "# Create a list of strings: fellowship\n",
    "fellowship = ['frodo', 'samwise', 'merry', 'aragorn', 'legolas', 'boromir', 'gimli']\n",
    "\n",
    "# Create list comprehension: new_fellowship\n",
    "new_fellowship = [member for member in fellowship if len(member) >=7 ]\n",
    "\n",
    "# Print the new list\n",
    "print(new_fellowship)"
   ]
  },
  {
   "cell_type": "markdown",
   "id": "41c99a1f",
   "metadata": {},
   "source": [
    "# same code using if-else (list comprehension)\n",
    "\n",
    "\n",
    "\n",
    "\n",
    "    Rule = a if ---else---for a in list_name\n",
    "    \n",
    "# Dictionary comprehension from list\n",
    "\n",
    "    Formula- {a:function(a) for a in list_name}"
   ]
  },
  {
   "cell_type": "code",
   "execution_count": null,
   "id": "2ef3294a",
   "metadata": {
    "scrolled": true
   },
   "outputs": [],
   "source": [
    "# Create a list of strings: fellowship\n",
    "fellowship = ['frodo', 'samwise', 'merry', 'aragorn', 'legolas', 'boromir', 'gimli']\n",
    "\n",
    "# Create dict comprehension: new_fellowship\n",
    "new_fellowship = {member : len(member) for member in fellowship}\n",
    "\n",
    "# Print the new dictionary\n",
    "print(new_fellowship)"
   ]
  },
  {
   "cell_type": "markdown",
   "id": "45fb6b59",
   "metadata": {},
   "source": [
    "# Generator expressions"
   ]
  },
  {
   "cell_type": "code",
   "execution_count": null,
   "id": "dfbcadf6",
   "metadata": {
    "scrolled": true
   },
   "outputs": [],
   "source": [
    "[2*num for num in range(10)]"
   ]
  },
  {
   "cell_type": "code",
   "execution_count": null,
   "id": "1337f918",
   "metadata": {
    "scrolled": true
   },
   "outputs": [],
   "source": [
    "# creating a generator expression from the LC\n",
    "(2* num for num in range(10))"
   ]
  },
  {
   "cell_type": "code",
   "execution_count": null,
   "id": "86e805b0",
   "metadata": {
    "scrolled": true
   },
   "outputs": [],
   "source": [
    "# let's print to check what is in the generator expression\n",
    "\n",
    "result = (2* num for num in range(10))\n",
    "for num in result:\n",
    "    print (num)"
   ]
  },
  {
   "cell_type": "code",
   "execution_count": null,
   "id": "e55740d4",
   "metadata": {
    "scrolled": true
   },
   "outputs": [],
   "source": [
    "# print a list from the genearator expression'result'\n",
    "result = (2* num for num in range(10))\n",
    "print(list(result))"
   ]
  },
  {
   "cell_type": "code",
   "execution_count": null,
   "id": "e23c4694",
   "metadata": {
    "scrolled": true
   },
   "outputs": [],
   "source": [
    "# printing values from the generator with the function 'next'  ===lazy evaluation\n",
    "\n",
    "result = (2* num for num in range(10))\n",
    "print (next(result))"
   ]
  },
  {
   "cell_type": "code",
   "execution_count": null,
   "id": "5b0195ea",
   "metadata": {
    "scrolled": true
   },
   "outputs": [],
   "source": [
    "print (next(result))"
   ]
  },
  {
   "cell_type": "markdown",
   "id": "d39d528e",
   "metadata": {},
   "source": [
    "# generator objects can be of large help when we are dealing with large data sets\n",
    "\n",
    "\n",
    "    [num for num in range(10**10000000)]\n",
    "    If I would run this code, the system would crash, but instead, if i create a list generator out of it, the system will\n",
    "    store the information until i need it.\n",
    "    The result would also be sotred as an object without actually executing. \n",
    "    \n",
    "    (num for num in range(10**1000000))\n",
    "    \n",
    "# we can all almost everything like conditions in the generator expressions too! "
   ]
  },
  {
   "cell_type": "code",
   "execution_count": null,
   "id": "68fb870f",
   "metadata": {
    "scrolled": true
   },
   "outputs": [],
   "source": [
    "# builing a generator function \n",
    "# uses yield instead of return \n",
    "\n",
    "# example\n",
    "\n",
    "def num_sequence(n):\n",
    "    '''Generates values from 0 to n'''\n",
    "    i= 0\n",
    "    while i< n:\n",
    "        yield i                   #yield instead of return \n",
    "        i += 1\n",
    "        \n",
    "result1 = num_sequence(7)\n",
    "print (result1)"
   ]
  },
  {
   "cell_type": "code",
   "execution_count": null,
   "id": "c62096d4",
   "metadata": {
    "scrolled": true
   },
   "outputs": [],
   "source": [
    "print (type(result1))"
   ]
  },
  {
   "cell_type": "code",
   "execution_count": null,
   "id": "0170fe4f",
   "metadata": {
    "scrolled": true
   },
   "outputs": [],
   "source": [
    "for item in result1:                     #used a for loop to print what we wanted to!\n",
    "    print (item)"
   ]
  },
  {
   "cell_type": "code",
   "execution_count": null,
   "id": "445df8d5",
   "metadata": {
    "scrolled": true
   },
   "outputs": [],
   "source": [
    "# Create a list of strings\n",
    "lannister = ['cersei', 'jaime', 'tywin', 'tyrion', 'joffrey']\n",
    "\n",
    "# Define generator function get_lengths\n",
    "def get_lengths(input_list):\n",
    "    \"\"\"Generator function that yields the\n",
    "    length of the strings in input_list.\"\"\"\n",
    "\n",
    "    # Yield the length of a string\n",
    "    for person in input_list:                               #for a in abc\n",
    "        yield (len(person))                                     #print (a)\n",
    "\n",
    "# Print the values generated by get_lengths()\n",
    "for value in get_lengths(lannister):\n",
    "    print(value)"
   ]
  },
  {
   "cell_type": "markdown",
   "id": "d868367b",
   "metadata": {},
   "source": [
    "# Recpap list comprehension\n",
    "\n",
    "\n",
    "    Basic-\n",
    "    [output expression + for+ iterator  variable + in + iterable]\n",
    "    \n",
    "    Advanced-\n",
    "    [output expression + 'conditional' on output for iterator variable +  in + iterable + 'conditional' on iterable]\n",
    "    \n",
    "    \n"
   ]
  },
  {
   "cell_type": "markdown",
   "id": "ed05b860",
   "metadata": {},
   "source": [
    "# Column extraction from data frame \n",
    "\n",
    "    Colomn name= y\n",
    "    DataFrame = x\n",
    "    \n",
    "    extraction = x['y]"
   ]
  },
  {
   "cell_type": "code",
   "execution_count": null,
   "id": "a24c3aa0",
   "metadata": {
    "scrolled": true
   },
   "outputs": [],
   "source": [
    "# Extract the created_at column from df: tweet_time\n",
    "\n",
    "#column name= y; DataFrame= x ; we do===x['y']\n",
    "\n",
    "tweet_time = df['created_at']\n",
    "\n",
    "# Extract the clock time: tweet_clock_time\n",
    "tweet_clock_time = [entry [11:19] for entry in tweet_time]\n",
    "\n",
    "# Print the extracted times\n",
    "print(tweet_clock_time)"
   ]
  },
  {
   "cell_type": "code",
   "execution_count": null,
   "id": "43282ecc",
   "metadata": {
    "scrolled": true
   },
   "outputs": [],
   "source": [
    "# same code with conditional statement\n",
    "\n",
    "\n",
    "# Extract the created_at column from df: tweet_time\n",
    "tweet_time = df['created_at']\n",
    "\n",
    "# Extract the clock time: tweet_clock_time\n",
    "tweet_clock_time = [entry[11:19] for entry in tweet_time if entry[17:19] == '19']\n",
    "\n",
    "# Print the extracted times\n",
    "print(tweet_clock_time)\n"
   ]
  },
  {
   "cell_type": "markdown",
   "id": "91970e4f",
   "metadata": {},
   "source": [
    "# Use of iterators, list comprehensions, and generators\n",
    "\n",
    "    Data on world economies for over a century\n",
    "    from indicators such as (population, electricity consumption, co2 emissions, literacy rates, unemployment, mortality rates) "
   ]
  },
  {
   "cell_type": "code",
   "execution_count": null,
   "id": "ad02e5e4",
   "metadata": {
    "scrolled": true
   },
   "outputs": [],
   "source": [
    "#Using zip()\n",
    "\n",
    "name = ['Kunal', 'Puneeth', 'Sorav', 'Saini', 'Ranjodh']\n",
    "country = ['Canada', 'Canada', 'India', 'India', 'India']\n",
    "\n",
    "creating_zip = zip(name, country)\n",
    "\n",
    "print (type(creating_zip))"
   ]
  },
  {
   "cell_type": "code",
   "execution_count": null,
   "id": "b656539f",
   "metadata": {
    "scrolled": true
   },
   "outputs": [],
   "source": [
    "print (list(creating_zip))"
   ]
  },
  {
   "cell_type": "code",
   "execution_count": null,
   "id": "f41bc23d",
   "metadata": {
    "scrolled": true
   },
   "outputs": [],
   "source": [
    "def raise_to_power(x,y):\n",
    "    x1= x**y\n",
    "    x2 = y**x\n",
    "    z = (x1, x2)\n",
    "    return z\n",
    "print (raise_to_power(2,3))\n"
   ]
  },
  {
   "cell_type": "code",
   "execution_count": null,
   "id": "1c0f2bf5",
   "metadata": {
    "scrolled": true
   },
   "outputs": [],
   "source": [
    "print (raise_to_power(4,3))"
   ]
  },
  {
   "cell_type": "code",
   "execution_count": null,
   "id": "db9d5191",
   "metadata": {
    "scrolled": true
   },
   "outputs": [],
   "source": [
    "# Zip lists: zipped_lists\n",
    "zipped_lists = zip(feature_names, row_vals)\n",
    "\n",
    "# Create a dictionary: rs_dict\n",
    "rs_dict = dict(zipped_lists)\n",
    "\n",
    "# Print the dictionary\n",
    "print(rs_dict)"
   ]
  },
  {
   "cell_type": "code",
   "execution_count": null,
   "id": "57b94326",
   "metadata": {
    "scrolled": true
   },
   "outputs": [],
   "source": [
    "# defin the above code to be able to store in the system \n",
    "\n",
    "# Define lists2dict()\n",
    "def lists2dict(list1, list2):\n",
    "    \"\"\"Return a dictionary where list1 provides\n",
    "    the keys and list2 provides the values.\"\"\"\n",
    "\n",
    "    # Zip lists: zipped_lists\n",
    "    zipped_lists = zip(list1, list2)\n",
    "\n",
    "    # Create a dictionary: rs_dict\n",
    "    rs_dict = dict(zipped_lists)\n",
    "\n",
    "    # Return the dictionary\n",
    "    return rs_dict  "
   ]
  },
  {
   "cell_type": "markdown",
   "id": "e4aec34a",
   "metadata": {},
   "source": [
    "# using a list comprehension to print output as dicitionaries\n"
   ]
  },
  {
   "cell_type": "code",
   "execution_count": null,
   "id": "d6130da0",
   "metadata": {
    "scrolled": true
   },
   "outputs": [],
   "source": [
    "\n",
    "\n",
    "# Print the first two lists in row_lists\n",
    "print(row_lists[0])\n",
    "print(row_lists[1])\n",
    "\n",
    "# Turn list of lists into list of dicts: list_of_dicts\n",
    "list_of_dicts = [lists2dict(feature_names, sublist) for sublist in row_lists]\n",
    "\n",
    "New_list_of_dictionaries = [file_name_or_defined_function(keys, iterator) for iterator in file_name]\n",
    "# Print the first two dictionaries in list_of_dicts\n",
    "print(list_of_dicts[0])\n",
    "print(list_of_dicts[1])"
   ]
  },
  {
   "cell_type": "code",
   "execution_count": null,
   "id": "ebaa2907",
   "metadata": {
    "scrolled": true
   },
   "outputs": [],
   "source": [
    "# Import the pandas package\n",
    "import pandas as pd\n",
    "\n",
    "# Turn list of lists into list of dicts: list_of_dicts\n",
    "list_of_dicts = [lists2dict(feature_names, sublist) for sublist in row_lists]\n",
    "\n",
    "# Turn list of dicts into a DataFrame: df\n",
    "df = pd.DataFrame(file_name)               #file name converted to a DataFrame\n",
    "\n",
    "# Print the head of the DataFrame\n",
    "print (df.head())"
   ]
  },
  {
   "cell_type": "markdown",
   "id": "542ce652",
   "metadata": {},
   "source": [
    "# Reading a streaming data by writing a generator function\n",
    "\n",
    "\n",
    "    Steps-\n",
    "    1) Initialize the function to 0\n",
    "    2) while loop is true until the value of the variable is attained \n",
    "    3) the loop keeps on executing until the final result is attained"
   ]
  },
  {
   "cell_type": "code",
   "execution_count": null,
   "id": "3c88f461",
   "metadata": {
    "scrolled": true
   },
   "outputs": [],
   "source": [
    "def num_sequence_function(x):\n",
    "    '''generates values from 0 to x'''\n",
    "    i = 0\n",
    "    while i < x:\n",
    "        yield i\n",
    "        i += 5\n",
    "num_sequence_function(45)        \n",
    "print (list(num_sequence_function(35)))\n",
    "    "
   ]
  },
  {
   "cell_type": "markdown",
   "id": "89af8373",
   "metadata": {},
   "source": [
    "# writing a generator to load the data into chunks \n",
    "\n",
    "\n",
    "    Practice exercises (5)"
   ]
  },
  {
   "cell_type": "code",
   "execution_count": null,
   "id": "b0a133a8",
   "metadata": {
    "scrolled": true
   },
   "outputs": [],
   "source": [
    "# Open a connection to the file\n",
    "with open ('world_dev_ind.csv') as file:\n",
    "\n",
    "    # Skip the column names\n",
    "    file.readline()\n",
    "\n",
    "    # Initialize an empty dictionary: counts_dict\n",
    "    counts_dict = {}\n",
    "\n",
    "    # Process only the first 1000 rows\n",
    "    for j in range(1000):\n",
    "\n",
    "        # Split the current line into a list: line\n",
    "        line = file.readline().split(',')\n",
    "\n",
    "        # Get the value for the first column: first_col\n",
    "        first_col = line[0]\n",
    "\n",
    "        # If the column value is in the dict, increment its value\n",
    "        if first_col in counts_dict.keys():\n",
    "            counts_dict[first_col] += 1\n",
    "\n",
    "        # Else, add to the dict and set value to 1\n",
    "        else:\n",
    "            counts_dict[first_col] = 1\n",
    "\n",
    "# Print the resulting dictionary\n",
    "print(counts_dict)"
   ]
  },
  {
   "cell_type": "markdown",
   "id": "9b5ec7ce",
   "metadata": {},
   "source": [
    "    In this exercise, you will define a 'generator function' read_large_file() that produces a generator object which yields a single line from a file each time next() is called on it. The csv file 'world_dev_ind.csv' is in your current directory for your use."
   ]
  },
  {
   "cell_type": "code",
   "execution_count": null,
   "id": "c67b5874",
   "metadata": {
    "scrolled": true
   },
   "outputs": [],
   "source": [
    "# Define read_large_file()\n",
    "def read_large_file(file_object):\n",
    "    \"\"\"A generator function to read a large file lazily.\"\"\"\n",
    "\n",
    "    # Loop indefinitely until the end of the file\n",
    "    while True:\n",
    "\n",
    "        # Read a line from the file: data\n",
    "        data = file_object.readline()                            #here was a misktake in the code\n",
    "\n",
    "        # Break if this is the end of the file\n",
    "        if not data:\n",
    "            break\n",
    "\n",
    "        # Yield the line of data\n",
    "        yield data                                               # there was a problem here also\n",
    "        \n",
    "# Open a connection to the file\n",
    "with open('world_dev_ind.csv') as file:\n",
    "\n",
    "    # Create a generator object for the file: gen_file\n",
    "    gen_file = read_large_file(file)\n",
    "\n",
    "    # Print the first three lines of the file\n",
    "    print(next(gen_file))\n",
    "    print(next(gen_file))\n",
    "    print(next(gen_file))"
   ]
  },
  {
   "cell_type": "markdown",
   "id": "5e538593",
   "metadata": {},
   "source": [
    "# Writing a generator to load data in chunks (3)\n",
    "\n",
    "     create a dictionary of the counts of how many times each country appears in a column in the dataset for the entire dataset!\n",
    "     \n",
    "     The generator function read_large_file() and the csv file 'world_dev_ind.csv' are preloaded and ready for your use. "
   ]
  },
  {
   "cell_type": "code",
   "execution_count": null,
   "id": "b02946c1",
   "metadata": {
    "scrolled": true
   },
   "outputs": [],
   "source": [
    "# Initialize an empty dictionary: counts_dict\n",
    "counts_dict = {}\n",
    "\n",
    "# Open a connection to the file\n",
    "with open('world_dev_ind.csv') as file:\n",
    "\n",
    "    # Iterate over the generator from read_large_file()\n",
    "    for line in read_large_file(file):\n",
    "\n",
    "        row = line.split(',')\n",
    "        first_col = row[0]\n",
    "\n",
    "        if first_col in counts_dict.keys():\n",
    "            counts_dict[first_col] += 1\n",
    "        else:\n",
    "            counts_dict[first_col] = 1\n",
    "\n",
    "# Print            \n",
    "print(counts_dict)"
   ]
  },
  {
   "cell_type": "markdown",
   "id": "8f166b70",
   "metadata": {},
   "source": [
    "# using pandas 'read_csv' iterator for streaming data\n",
    "\n",
    "    read_csv() function and chunksize() argument\n",
    "    \n",
    "    "
   ]
  },
  {
   "cell_type": "code",
   "execution_count": null,
   "id": "68167bc2",
   "metadata": {
    "scrolled": true
   },
   "outputs": [],
   "source": [
    "for a in ['this is a test']:          #printing a list\n",
    "    print (a)\n",
    "\n",
    "\n",
    "for a in 'this is fine':                 #strings get printed\n",
    "    print (a)"
   ]
  },
  {
   "cell_type": "markdown",
   "id": "ef3b873d",
   "metadata": {},
   "source": [
    "    In this exercise, you will read a file in small DataFrame chunks with read_csv(). You're going to use the World Bank Indicators data 'ind_pop.csv', available in your current directory, to look at the urban population indicator for numerous countries and years.\n",
    "    \n",
    "    Data gets loaded from file named- 'ind_pop.csv' and each time the next(pd.read('file') is called, the chunk gets displayed. "
   ]
  },
  {
   "cell_type": "code",
   "execution_count": null,
   "id": "d8f71e93",
   "metadata": {
    "scrolled": false
   },
   "outputs": [],
   "source": [
    "# Import the pandas package\n",
    "import pandas as pd\n",
    "\n",
    "# Initialize reader object: df_reader\n",
    "df_reader = pd.read_csv('ind_pop.csv', chunksize = 10)\n",
    "\n",
    "# Print two chunks\n",
    "print(next(df_reader))\n",
    "print(next(df_reader))"
   ]
  },
  {
   "cell_type": "markdown",
   "id": "54b6fc43",
   "metadata": {},
   "source": [
    "    \n",
    "    \n",
    "    In this exercise, you will read in a file using a bigger DataFrame chunk size and then process the data from the first chunk.\n",
    "    \n",
    "    "
   ]
  },
  {
   "cell_type": "code",
   "execution_count": null,
   "id": "2c7c2364",
   "metadata": {
    "scrolled": true
   },
   "outputs": [],
   "source": [
    "# Initialize reader object: urb_pop_reader\n",
    "urb_pop_reader = pd.read_csv('ind_pop_data.csv', chunksize = 1000)\n",
    "\n",
    "# Get the first DataFrame chunk: df_urb_pop\n",
    "df_urb_pop = next(urb_pop_reader)\n",
    "\n",
    "# Check out the head of the DataFrame\n",
    "print(df_urb_pop.head())\n",
    "\n",
    "# Check out specific country: df_pop_ceb\n",
    "df_pop_ceb = df_urb_pop['CountryCode']=='CEB'\n",
    "\n",
    "# Zip DataFrame columns of interest: pops\n",
    "pops = zip(df_pop_ceb['Total Population'], \n",
    "           df_pop_ceb['Urban population (% of total)'])\n",
    "\n",
    "# Turn zip object into list: pops_list\n",
    "pops_list = list(pops)\n",
    "\n",
    "# Print pops_list\n",
    "print(pops_list)"
   ]
  },
  {
   "cell_type": "markdown",
   "id": "5811dfe5",
   "metadata": {},
   "source": [
    "\n",
    "\n",
    "    let's push your skills a little further by adding a column to a DataFrame.\n",
    "    \n",
    "    "
   ]
  },
  {
   "cell_type": "code",
   "execution_count": null,
   "id": "1b8f5e6e",
   "metadata": {},
   "outputs": [],
   "source": [
    "# Code from previous exercise\n",
    "urb_pop_reader = pd.read_csv('ind_pop_data.csv', chunksize=1000)\n",
    "df_urb_pop = next(urb_pop_reader)\n",
    "df_pop_ceb = df_urb_pop[df_urb_pop['CountryCode'] == 'CEB']\n",
    "pops = zip(df_pop_ceb['Total Population'], \n",
    "           df_pop_ceb['Urban population (% of total)'])\n",
    "pops_list = list(pops)\n",
    "\n",
    "# Use list comprehension to create new DataFrame column 'Total Urban Population'\n",
    "df_pop_ceb['Total Urban Population'] = [int(x[0]* x[1]* 0.01) for x in pops_list]\n",
    "\n",
    "# Plot urban population data\n",
    "df_pop_ceb.plot(kind='scatter', x='Year', y='Total Urban Population')\n",
    "plt.show()"
   ]
  },
  {
   "cell_type": "markdown",
   "id": "fe0cf781",
   "metadata": {},
   "source": [
    "\n",
    "\n",
    "\n",
    "This time, you will aggregate the results over all the DataFrame chunks in the dataset.This basically means you will be processing the entire dataset now. This is neat because you're going to be able to process the entire large dataset by just working on smaller pieces of it!\n",
    "\n"
   ]
  },
  {
   "cell_type": "code",
   "execution_count": null,
   "id": "0af67793",
   "metadata": {},
   "outputs": [],
   "source": [
    "# Initialize reader object: urb_pop_reader\n",
    "urb_pop_reader = pd.read_csv('ind_pop_data.csv', chunksize=1000)\n",
    "\n",
    "# Initialize empty DataFrame: data\n",
    "data = pd.DataFrame()\n",
    "\n",
    "# Iterate over each DataFrame chunk\n",
    "for df_urb_pop in urb_pop_reader:\n",
    "\n",
    "    # Check out specific country: df_pop_ceb\n",
    "    df_pop_ceb = df_urb_pop[df_urb_pop['CountryCode'] == 'CEB']\n",
    "\n",
    "    # Zip DataFrame columns of interest: pops\n",
    "    pops = zip(df_pop_ceb['Total Population'],\n",
    "                df_pop_ceb['Urban population (% of total)'])\n",
    "\n",
    "    # Turn zip object into list: pops_list\n",
    "    pops_list = list(pops)\n",
    "\n",
    "    # Use list comprehension to create new DataFrame column 'Total Urban Population'\n",
    "    df_pop_ceb['Total Urban Population'] = [int(tup[0] * tup[1] * 0.01) for tup in pops_list]\n",
    "    \n",
    "    # Append DataFrame chunk to data: data\n",
    "    data = data.append(df_pop_ceb)\n",
    "\n",
    "# Plot urban population data\n",
    "data.plot(kind='scatter', x='Year', y='Total Urban Population')\n",
    "plt.show()\n"
   ]
  },
  {
   "cell_type": "markdown",
   "id": "937a914a",
   "metadata": {},
   "source": [
    "\n",
    "\n",
    "Defining the function for processing the data into a single function so that you can reuse the code without having to rewrite the same things all over again.\n",
    "\n"
   ]
  },
  {
   "cell_type": "code",
   "execution_count": null,
   "id": "273a7efa",
   "metadata": {},
   "outputs": [],
   "source": [
    "\n",
    "# Define plot_pop()\n",
    "def plot_pop(filename, country_code):\n",
    "\n",
    "    # Initialize reader object: urb_pop_reader\n",
    "    urb_pop_reader = pd.read_csv(filename, chunksize=1000)\n",
    "\n",
    "    # Initialize empty DataFrame: data\n",
    "    data = pd.DataFrame()\n",
    "    \n",
    "    # Iterate over each DataFrame chunk\n",
    "    for df_urb_pop in urb_pop_reader:\n",
    "        # Check out specific country: df_pop_ceb\n",
    "        df_pop_ceb = df_urb_pop[df_urb_pop['CountryCode'] == country_code]\n",
    "\n",
    "        # Zip DataFrame columns of interest: pops\n",
    "        pops = zip(df_pop_ceb['Total Population'],\n",
    "                    df_pop_ceb['Urban population (% of total)'])\n",
    "\n",
    "        # Turn zip object into list: pops_list\n",
    "        pops_list = list(pops)\n",
    "\n",
    "        # Use list comprehension to create new DataFrame column 'Total Urban Population'\n",
    "        df_pop_ceb['Total Urban Population'] = [int(tup[0] * tup[1] * 0.01) for tup in pops_list]\n",
    "    \n",
    "        # Append DataFrame chunk to data: data\n",
    "        data = data.append(df_pop_ceb)\n",
    "\n",
    "    # Plot urban population data\n",
    "    data.plot(kind='scatter', x='Year', y='Total Urban Population')\n",
    "    plt.show()\n",
    "\n",
    "# Set the filename: fn\n",
    "fn = 'ind_pop_data.csv'\n",
    "\n",
    "# Call plot_pop for country code 'CEB'\n",
    "plot_pop(fn, 'CEB')\n",
    "\n",
    "# Call plot_pop for country code 'ARB'\n",
    "plot_pop (fn, 'ARB')\n"
   ]
  },
  {
   "cell_type": "code",
   "execution_count": 3,
   "id": "f439d1f4",
   "metadata": {},
   "outputs": [
    {
     "name": "stdout",
     "output_type": "stream",
     "text": [
      "[13, 8, 4]\n"
     ]
    }
   ],
   "source": [
    "floats = [12.7, 7.52, 3.72]\n",
    "integers = [round(floats) for floats in floats]\n",
    "print (integers)"
   ]
  },
  {
   "cell_type": "code",
   "execution_count": 17,
   "id": "f4bf6dd2",
   "metadata": {},
   "outputs": [
    {
     "data": {
      "text/plain": [
       "-4"
      ]
     },
     "execution_count": 17,
     "metadata": {},
     "output_type": "execute_result"
    }
   ],
   "source": [
    "x= [1,2,-3, -4, 3]\n",
    "x_it = iter(x)\n",
    "next(x_it)\n",
    "next(x_it)\n",
    "next(x_it)\n",
    "next(x_it)"
   ]
  },
  {
   "cell_type": "code",
   "execution_count": 16,
   "id": "9e06ccb2",
   "metadata": {},
   "outputs": [
    {
     "name": "stdout",
     "output_type": "stream",
     "text": [
      "1\n"
     ]
    }
   ],
   "source": [
    "result = (num for num in x)                     #used round brackets for iteration \n",
    "print (next(result))"
   ]
  },
  {
   "cell_type": "code",
   "execution_count": 15,
   "id": "9d8c6ced",
   "metadata": {},
   "outputs": [
    {
     "name": "stdout",
     "output_type": "stream",
     "text": [
      "a\n"
     ]
    }
   ],
   "source": [
    "team = ['a', 'b', 'c']\n",
    "flash = iter(team)\n",
    "print (next(flash))"
   ]
  },
  {
   "cell_type": "code",
   "execution_count": 20,
   "id": "7a5cb879",
   "metadata": {},
   "outputs": [
    {
     "name": "stdout",
     "output_type": "stream",
     "text": [
      "[-3, -4]\n"
     ]
    }
   ],
   "source": [
    "print ([n for n in x if n<0])            #to just create a generator object in this case, just use round brackets"
   ]
  },
  {
   "cell_type": "code",
   "execution_count": 22,
   "id": "1f82b0c9",
   "metadata": {},
   "outputs": [
    {
     "name": "stdout",
     "output_type": "stream",
     "text": [
      "<generator object <genexpr> at 0x000002451355E6D0>\n"
     ]
    }
   ],
   "source": [
    "print (n for n in x if n<0)"
   ]
  },
  {
   "cell_type": "code",
   "execution_count": 23,
   "id": "7a6d5272",
   "metadata": {},
   "outputs": [
    {
     "name": "stdout",
     "output_type": "stream",
     "text": [
      "['11', '22', '33']\n"
     ]
    }
   ],
   "source": [
    "a= '123'\n",
    "print ([y * 2 for y in a])                 #how do we come to this solution"
   ]
  },
  {
   "cell_type": "code",
   "execution_count": null,
   "id": "32e764ab",
   "metadata": {},
   "outputs": [],
   "source": []
  }
 ],
 "metadata": {
  "kernelspec": {
   "display_name": "Python 3 (ipykernel)",
   "language": "python",
   "name": "python3"
  },
  "language_info": {
   "codemirror_mode": {
    "name": "ipython",
    "version": 3
   },
   "file_extension": ".py",
   "mimetype": "text/x-python",
   "name": "python",
   "nbconvert_exporter": "python",
   "pygments_lexer": "ipython3",
   "version": "3.8.12"
  }
 },
 "nbformat": 4,
 "nbformat_minor": 5
}
