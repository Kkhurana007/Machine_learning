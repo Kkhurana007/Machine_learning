{
 "cells": [
  {
   "cell_type": "markdown",
   "id": "f5795779",
   "metadata": {},
   "source": [
    "# learning outcomes \n",
    "    wide and long data formats\n",
    "    long to wide transformation\n",
    "    wide to long tranformation\n",
    "    \n",
    "    Stacking and unstacking colomns\n",
    "    Reshaping and handling complex data, such as string colomns, and JSOM data\n",
    "    \n",
    "    Nested data in DataFrames\n",
    "    Get summary statistics from multi-level index DataFrames\n",
    "    \n",
    "    "
   ]
  },
  {
   "cell_type": "code",
   "execution_count": 2,
   "id": "94f0a358",
   "metadata": {},
   "outputs": [
    {
     "ename": "ModuleNotFoundError",
     "evalue": "No module named 'pandas'",
     "output_type": "error",
     "traceback": [
      "\u001b[1;31m---------------------------------------------------------------------------\u001b[0m",
      "\u001b[1;31mModuleNotFoundError\u001b[0m                       Traceback (most recent call last)",
      "Cell \u001b[1;32mIn[2], line 4\u001b[0m\n\u001b[0;32m      1\u001b[0m \u001b[39m# shape of data\u001b[39;00m\n\u001b[1;32m----> 4\u001b[0m \u001b[39mimport\u001b[39;00m \u001b[39mpandas\u001b[39;00m \u001b[39mas\u001b[39;00m \u001b[39mpd\u001b[39;00m\n\u001b[0;32m      5\u001b[0m fifa_players \u001b[39m=\u001b[39m pd\u001b[39m.\u001b[39mread_csv(\u001b[39m'\u001b[39m\u001b[39mfifa_players.csv\u001b[39m\u001b[39m'\u001b[39m)\n\u001b[0;32m      6\u001b[0m fifa_players\n",
      "\u001b[1;31mModuleNotFoundError\u001b[0m: No module named 'pandas'"
     ]
    }
   ],
   "source": [
    "# shape of data\n",
    "\n",
    "\n",
    "import pandas as pd\n",
    "fifa_players = pd.read_csv('fifa_players.csv')\n",
    "fifa_players"
   ]
  },
  {
   "cell_type": "code",
   "execution_count": 2,
   "id": "d49a64f8",
   "metadata": {},
   "outputs": [
    {
     "ename": "NameError",
     "evalue": "name 'fifa_players' is not defined",
     "output_type": "error",
     "traceback": [
      "\u001b[1;31m---------------------------------------------------------------------------\u001b[0m",
      "\u001b[1;31mNameError\u001b[0m                                 Traceback (most recent call last)",
      "\u001b[1;32mC:\\Users\\KHURAN~1\\AppData\\Local\\Temp/ipykernel_40604/998153953.py\u001b[0m in \u001b[0;36m<module>\u001b[1;34m\u001b[0m\n\u001b[1;32m----> 1\u001b[1;33m \u001b[0mfifa_players\u001b[0m\u001b[1;33m.\u001b[0m\u001b[0mshape\u001b[0m\u001b[1;33m\u001b[0m\u001b[1;33m\u001b[0m\u001b[0m\n\u001b[0m",
      "\u001b[1;31mNameError\u001b[0m: name 'fifa_players' is not defined"
     ]
    }
   ],
   "source": [
    "fifa_players.shape\n"
   ]
  },
  {
   "cell_type": "markdown",
   "id": "417ccf33",
   "metadata": {},
   "source": [
    "# remarks\n",
    "    each row represents one feature\n",
    "    A column (name) to identify same player\n",
    "    \n",
    "    Tidy data?\n",
    "        1) better to summerize it first\n",
    "        2) key-value pairs\n",
    "        \n",
    "     Reshaping the data(transporsing it- rows become coloumns and coloumns become rows)\n",
    "     \n",
    "     \n"
   ]
  },
  {
   "cell_type": "markdown",
   "id": "59b6e49a",
   "metadata": {},
   "source": [
    "# how to transpose\n",
    "\n",
    "    File_name.set_index ('abc')[['name', 'nationality']].transpose()\n",
    "\n",
    "# learn about pandas functions such as .melt(), .wide_to_long(), .pivot(), pivot_table()\n",
    "\n",
    "    First step is to explore the dataset and reshape it using basic steps- \n",
    "    1)  setting different indices\n",
    "    2) filtering columns\n",
    "        3) flipping the DataFrame\n",
    "\n",
    "# long format more suitable to store data Sets (long to wide) \n",
    "    Demonstrate relationship b/w variables\n",
    "    time series operations with variables\n",
    "    Operations that require coloumns to be unique variables\n",
    "    \n",
    "    \n",
    "# pivoting a data set (3 arguments)     \n",
    "    df.pivot (index=           , columns =           , values=           ) \n",
    "    \n",
    "    Remark- omitting the values parameter to pivot all columns works in all the cases, but it needs to be omitted in some  situations\n",
    "    \n",
    "    \n",
    "# dropping the row \n",
    "    df.drop(4, axis = 5)                   #why the axis is set to 5, no reason!\n",
    "    \n",
    "    \n",
    "    \n",
    " # pivot tables_conditions and example\n",
    "     1) when the DataFrame has more than one value for each index/column pair\n",
    "     2) when there is a need to have a multi-index in the resulting pivoted DataFrame\n",
    "     3) summary statistics of a large DataFrame is required-\n",
    "     4) margins will provide you the maximum value for each of the columns and rows\n",
    "     \n",
    "     Example-\n",
    "     \n",
    "           df.pivot_table(index= 'Year', columns= '         ', values= '      ', aggfunc= 'mean', margins = True) \n",
    "                                1)             2)                     3)               4)              5) \n"
   ]
  },
  {
   "cell_type": "markdown",
   "id": "1c3ff8e4",
   "metadata": {},
   "source": [
    "# Reshaping with melf function\n",
    "\n",
    "    Wide to long transformation\n",
    "    \n",
    "    df.melt(identifier_variables= ['first', 'last'], value_variables=['a', 'b'], variable_name= 'feature', value_name = 'amount')\n",
    "            \n",
    "            identifier_variables = id_vars\n",
    "            value_variables = val_vars\n",
    "            variable_name = var_name\n",
    "            "
   ]
  },
  {
   "cell_type": "code",
   "execution_count": null,
   "id": "3574a583",
   "metadata": {},
   "outputs": [],
   "source": []
  },
  {
   "cell_type": "markdown",
   "id": "89a13377",
   "metadata": {},
   "source": [
    "# wide_to_long function\n",
    "# note- this is a pandas function and not a data frame method\n",
    "\n",
    "    pd.wide_to_long(df, stubnames=['a', 'b'], i=  'extension of list'  , j=   'suffix-'      )\n",
    "    \n",
    "    Resetting the index and applying the transformation-\n",
    "    file_name.reset_index(drop = False, inplace = True)\n",
    "    \n",
    "        pd.wide_to_long(df, stubnames=['a', 'b'], i= ['author', 'title'], j= 'year', sep= '_', suffix='\\w+')\n",
    "        \n",
    "            '\\w+' indicates to pandas that the name of the column ends in the word\n",
    "            \n",
    "            \n",
    "              pd.wide_to_long(df, stubnames= ['a', 'b'], i='title', j='year')\n",
    "              \n",
    "              Where, i= 'coloumn name(s)\n",
    "                      j= new addiditonal variable created as a result\n",
    "                     \n",
    "              \n",
    "              How to reset the index and keep it without dropping?\n",
    "                  df.reset_index(drop= False, inplace= True)\n",
    "                  \n",
    "                  pd.wide_to_long(df, stubnames= ['a', 'b'],i=['author', 'title'], j='year')"
   ]
  },
  {
   "cell_type": "code",
   "execution_count": null,
   "id": "692fbae2",
   "metadata": {},
   "outputs": [],
   "source": []
  },
  {
   "cell_type": "markdown",
   "id": "85d59789",
   "metadata": {},
   "source": [
    "# Working with string columns\n",
    "\n",
    "## using pandas series string processing methods\n",
    "\n",
    "## Can be used to split/concatinate the columns\n",
    "\n",
    "\n",
    "\n",
    "    ## Are accessed by using the 'str' attribute\n",
    "    \n",
    "    # basically, here we try to understand the use of string separation from the DataFrame\n",
    "    \n",
    "    \n",
    "    df['title'].str.split(':', expand= True)\n",
    "\n",
    "### splitting into two columns\n",
    "\n",
    "        df[['main title', 'sub-title']] = books['title'].str.split(':', expand= True)\n",
    "        \n",
    "        Now we drop the old title in order to replace it with the new one!\n",
    "        \n",
    "        df.drop('title', axis= 1, inplace = True)\n",
    "        \n",
    "        pd.wide_to_long (books, stubnames = ['a', 'b'], i= ['column_name_title_1', 'column_name_sub_title_2'], j= 'year') \n",
    "\n",
    "### concatinating the two columns\n",
    "\n",
    "    df['title'].str.cat(df['sub_title'], sep = ' ')\n",
    "    \n",
    "    \n",
    "    Doing the above method in the orignal DataFrame\n",
    "    \n",
    "    df['combined_title_lastname']= df['title'].str.cat(df['lastname'], sep= ' ')\n",
    "\n",
    "### Concatinate index? (yet to go there)\n",
    "\n",
    "\n",
    "\n",
    "        How to check the data types?\n",
    "                df['title'].dtypes"
   ]
  },
  {
   "cell_type": "code",
   "execution_count": null,
   "id": "1940d785",
   "metadata": {},
   "outputs": [],
   "source": [
    "\n",
    "\n"
   ]
  },
  {
   "cell_type": "markdown",
   "id": "a7438ac6",
   "metadata": {},
   "source": [
    "# splitting the index of the df from practice\n",
    "   \n",
    "   \n",
    "       df.index= df.index.str.split('-')\n",
    "       \n",
    "# getting the first element after splitting the index\n",
    "\n",
    "            df.index = df.index.str.split('-').str.get('element_number')\n",
    "\n",
    "\n",
    "\n"
   ]
  },
  {
   "cell_type": "code",
   "execution_count": null,
   "id": "af4f8aad",
   "metadata": {},
   "outputs": [],
   "source": [
    "\n",
    "#Define a DataFrame hp_melt by melting the goodreads and amazon columns into a\n",
    "#single column named source. Assign the name rating to the resulting value column.\n",
    "#Use only the full title and the writer as identifier variables.\n",
    "\n",
    "\n",
    "# Concatenate the title and subtitle separated by \"and\" surrounded by spaces\n",
    "hp_books['full_title'] = hp_books['title'].str.cat(hp_books['subtitle'], sep =\" and \") \n",
    "\n",
    "# Split the authors into writer and illustrator columns\n",
    "hp_books[['writer', 'illustrator']] = hp_books['authors'].str.split('/', expand=True)\n",
    "\n",
    "# Melt goodreads and amazon columns into a single column\n",
    "hp_melt = hp_books.melt(id_vars=['full_title', 'writer'], \n",
    "                        var_name='source', \n",
    "                        value_vars=['goodreads', 'amazon'], \n",
    "                        value_name='rating')\n",
    "\n",
    "# Print hp_melt\n",
    "print(hp_melt)"
   ]
  }
 ],
 "metadata": {
  "kernelspec": {
   "display_name": "Python 3 (ipykernel)",
   "language": "python",
   "name": "python3"
  },
  "language_info": {
   "codemirror_mode": {
    "name": "ipython",
    "version": 3
   },
   "file_extension": ".py",
   "mimetype": "text/x-python",
   "name": "python",
   "nbconvert_exporter": "python",
   "pygments_lexer": "ipython3",
   "version": "3.10.4"
  }
 },
 "nbformat": 4,
 "nbformat_minor": 5
}
