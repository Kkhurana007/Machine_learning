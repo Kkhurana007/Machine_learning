{
 "cells": [
  {
   "cell_type": "markdown",
   "id": "d36bc0a7",
   "metadata": {},
   "source": [
    "### exploring diamond's dataset for statistical_variations"
   ]
  },
  {
   "cell_type": "markdown",
   "id": "c4abda46",
   "metadata": {},
   "source": [
    "### Remarks-\n",
    "- Disable the maximum rows with this command- \"alt.data_transformers.disable_max_rows() if the number exceeds 5000\"\n",
    "- use .properties() instead of .save() to display the illustrations as outputs. The only problem though is that two outputs can not be executed in the single cell\n",
    "- made boxplots with _mark.boxplots(). Next, a bar chart was colored either using the 'stroke aesthetic', or, more usefully, 'color'\n",
    "- for bars, with variable 'clarity' they are automatically stacked with the help of _mark.bar().\n",
    "    - stacked the bar graphs\n",
    "    - compared the bar-graphs with the common baseline\n",
    "    - gallery for bar charts (altair) https://altair-viz.github.io/gallery/index.html#bar-charts\n",
    "- Interactive bar maps from a single data source\n",
    "- Awesome resource for spacial data science studies from penn state https://www.e-education.psu.edu/geog489/node/2201 \n",
    "- Altair's gallery for maps https://altair-viz.github.io/gallery/index.html#maps"
   ]
  },
  {
   "cell_type": "code",
   "execution_count": null,
   "id": "0285257d",
   "metadata": {},
   "outputs": [],
   "source": [
    "# installing missing libraries such as geopandas, gpdvega"
   ]
  },
  {
   "cell_type": "code",
   "execution_count": null,
   "id": "4181d061",
   "metadata": {},
   "outputs": [],
   "source": [
    "pip install geopandas"
   ]
  },
  {
   "cell_type": "code",
   "execution_count": null,
   "id": "e4eda8ef",
   "metadata": {},
   "outputs": [],
   "source": [
    "pip install gpdvega"
   ]
  },
  {
   "cell_type": "code",
   "execution_count": null,
   "id": "f07300c7",
   "metadata": {},
   "outputs": [],
   "source": [
    "pip install -e git+https://github.com/altair-viz/altair.git"
   ]
  },
  {
   "cell_type": "raw",
   "id": "4dce74e6",
   "metadata": {},
   "source": [
    "pip install -e ."
   ]
  },
  {
   "cell_type": "code",
   "execution_count": null,
   "id": "208ab428",
   "metadata": {},
   "outputs": [],
   "source": [
    "pip install --upgrade pip"
   ]
  },
  {
   "cell_type": "code",
   "execution_count": null,
   "id": "7f246bd6",
   "metadata": {},
   "outputs": [],
   "source": [
    "#importing dictionaries\n",
    "import pandas as pd   \n",
    "import altair as alt  "
   ]
  },
  {
   "cell_type": "code",
   "execution_count": null,
   "id": "60ef7625",
   "metadata": {},
   "outputs": [],
   "source": [
    "url = \"https://github.com/byuidatascience/data4python4ds/raw/master/data-raw/diamonds/diamonds.csv\"\n",
    "diamonds = pd.read_csv(url)\n",
    "\n",
    "diamonds['cut'] = pd.Categorical(diamonds.cut, \n",
    "  ordered = True, \n",
    "  categories =  [\"Fair\", \"Good\", \"Very Good\", \"Premium\", \"Ideal\" ])\n",
    "\n",
    "diamonds['color'] = pd.Categorical(diamonds.color, \n",
    "  ordered = True, \n",
    "  categories =  [\"D\", \"E\", \"F\", \"G\", \"H\", \"I\", \"J\"])\n",
    "\n",
    "\n",
    "diamonds['clarity'] = pd.Categorical(diamonds.clarity, \n",
    "  ordered = True, \n",
    "  categories =  [\"I1\", \"SI2\", \"SI1\", \"VS2\", \"VS1\", \"VVS2\", \"VVS1\", \"IF\"])"
   ]
  },
  {
   "cell_type": "code",
   "execution_count": null,
   "id": "d2616013",
   "metadata": {},
   "outputs": [],
   "source": [
    "alt.data_transformers.disable_max_rows()"
   ]
  },
  {
   "cell_type": "code",
   "execution_count": null,
   "id": "25be11c9",
   "metadata": {},
   "outputs": [],
   "source": [
    "chart = (alt.Chart(diamonds)\n",
    "  .encode(\n",
    "    x = \"cut\",\n",
    "    y = alt.Y(\"count():Q\")\n",
    "    )\n",
    "  .mark_bar()\n",
    "  .properties(width = 400))\n",
    "\n",
    "chart.properties()"
   ]
  },
  {
   "cell_type": "code",
   "execution_count": null,
   "id": "7c078111",
   "metadata": {},
   "outputs": [],
   "source": []
  },
  {
   "cell_type": "markdown",
   "id": "f2d25a50",
   "metadata": {},
   "source": [
    "contains information about ~54,000 diamonds, including the price, carat, color, clarity, and cut of each diamond"
   ]
  },
  {
   "cell_type": "code",
   "execution_count": null,
   "id": "054653d5",
   "metadata": {},
   "outputs": [],
   "source": [
    "chart = (alt.Chart(diamonds)\n",
    "  .encode(\n",
    "    x =alt.X(\"price\", bin=True),\n",
    "    y =alt.Y(\"count()\")\n",
    "    )\n",
    "  .mark_bar())\n",
    "\n",
    "chart.properties()"
   ]
  },
  {
   "cell_type": "code",
   "execution_count": null,
   "id": "db4ad738",
   "metadata": {},
   "outputs": [],
   "source": [
    "chart = (alt.Chart(diamonds)\n",
    "  .encode(\n",
    "    y =\"price\",\n",
    "    x =\"cut\"\n",
    "    )\n",
    "  .mark_boxplot(size = 25)\n",
    "  .properties(width = 300))\n",
    "\n",
    "chart.properties()"
   ]
  },
  {
   "cell_type": "code",
   "execution_count": null,
   "id": "3cc491b1",
   "metadata": {},
   "outputs": [],
   "source": [
    "chart_left = (alt.Chart(diamonds)\n",
    "  .encode(\n",
    "    x = \"cut\",\n",
    "    y = alt.Y(\"count()\"),\n",
    "    stroke = \"cut\"\n",
    "    )\n",
    "  .mark_bar()\n",
    "  .properties(width = 200))\n",
    "  \n",
    "chart_right = (alt.Chart(diamonds)\n",
    "  .encode(\n",
    "    x = \"cut\",\n",
    "    y = alt.Y(\"count()\"),\n",
    "    color = \"cut\"\n",
    "    )\n",
    "  .mark_bar()\n",
    "  .properties(width = 200)) \n",
    "\n",
    "chart_left.properties()"
   ]
  },
  {
   "cell_type": "code",
   "execution_count": null,
   "id": "29477a7b",
   "metadata": {},
   "outputs": [],
   "source": [
    "chart_right.properties()"
   ]
  },
  {
   "cell_type": "code",
   "execution_count": null,
   "id": "691c77a6",
   "metadata": {},
   "outputs": [],
   "source": [
    "\n",
    "chart = (alt.Chart(diamonds)\n",
    "  .encode(\n",
    "    x = \"cut\",\n",
    "    y = alt.Y(\"count()\"),\n",
    "    color = \"clarity\"\n",
    "    )\n",
    "  .mark_bar()\n",
    "  .properties(width = 200))\n",
    "\n",
    "chart.properties()"
   ]
  },
  {
   "cell_type": "code",
   "execution_count": null,
   "id": "3264f84e",
   "metadata": {
    "scrolled": true
   },
   "outputs": [],
   "source": [
    "# now, we normalize the bar graphs to see the stacked position of it. \n",
    "\n",
    "chart = (alt.Chart(diamonds)\n",
    "  .mark_bar()\n",
    "  .encode(\n",
    "    x = \"cut\",\n",
    "    y = alt.Y(\"count()\", stack='normalize'),\n",
    "    color = \"clarity\"\n",
    "    )\n",
    "  .mark_bar()\n",
    "  .properties(width = 200))\n",
    "\n",
    "chart.properties()"
   ]
  },
  {
   "cell_type": "code",
   "execution_count": null,
   "id": "ec5fdadc",
   "metadata": {},
   "outputs": [],
   "source": [
    "# comparing the bar-graphs with the commonbaseline\n",
    "\n",
    "chart = (alt.Chart(diamonds)\n",
    "  .encode(\n",
    "    x='clarity',\n",
    "    y=alt.Y('count()'),\n",
    "    color='clarity',\n",
    "    column='cut'\n",
    "    )\n",
    "  .mark_bar())\n",
    "\n",
    "chart.properties()"
   ]
  },
  {
   "cell_type": "code",
   "execution_count": null,
   "id": "46824faf",
   "metadata": {},
   "outputs": [],
   "source": [
    "#Interactive bar maps from a single data source\n",
    "# the graph shows the population of an african continent\n",
    "\n",
    "import altair as alt\n",
    "import geopandas as gpd\n",
    "import gpdvega\n",
    "\n",
    "alt.renderers.enable('notebook') # render for Jupyter Notebook\n",
    "\n",
    "world = gpd.read_file(gpd.datasets.get_path('naturalearth_lowres'))\n",
    "\n",
    "brush = alt.selection_single(encodings=[\"y\"],on=\"mouseover\", empty='none')\n",
    "color = alt.Color('pop_est', scale= alt.Scale(type='pow', exponent=0.4))\n",
    "\n",
    "alt.hconcat(\n",
    "    alt.Chart().mark_bar().encode(\n",
    "        x=alt.X('pop_est', scale=alt.Scale(nice=False)),\n",
    "        y=alt.Y('name', sort=alt.EncodingSortField(field='pop_est',\n",
    "                                            op='sum', order='descending')),\n",
    "        tooltip=['name','pop_est','gdp_md_est'],\n",
    "        color=alt.condition(brush, alt.value('lightgray'), color)\n",
    "        ).add_selection(\n",
    "            brush\n",
    "        ).properties(\n",
    "            width=200,\n",
    "    \n",
    "            height=450\n",
    "        ),\n",
    "    alt.Chart().mark_geoshape().project().encode(\n",
    "        color=alt.condition(\n",
    "            brush,\n",
    "            alt.value('lightgray'),\n",
    "            color,\n",
    "        ),\n",
    "        tooltip=['name','pop_est','gdp_md_est'],\n",
    "        ).properties(\n",
    "            width=300,\n",
    "            height=450,\n",
    "            title='Africa population'\n",
    "        ),\n",
    "    data=world[world.continent == 'Africa']\n",
    ")"
   ]
  },
  {
   "cell_type": "code",
   "execution_count": 1,
   "id": "87ec62ec",
   "metadata": {},
   "outputs": [
    {
     "ename": "ValueError",
     "evalue": "\nTo use the 'notebook' renderer, you must install the vega package\nand the associated Jupyter extension.\nSee https://altair-viz.github.io/getting_started/installation.html\nfor more information.\n",
     "output_type": "error",
     "traceback": [
      "\u001b[1;31m---------------------------------------------------------------------------\u001b[0m",
      "\u001b[1;31mNoSuchEntryPoint\u001b[0m                          Traceback (most recent call last)",
      "File \u001b[1;32m~\\AppData\\Roaming\\Python\\Python310\\site-packages\\altair\\utils\\plugin_registry.py:142\u001b[0m, in \u001b[0;36mPluginRegistry._enable\u001b[1;34m(self, name, **options)\u001b[0m\n\u001b[0;32m    141\u001b[0m \u001b[38;5;28;01mtry\u001b[39;00m:\n\u001b[1;32m--> 142\u001b[0m     ep \u001b[38;5;241m=\u001b[39m \u001b[43mentrypoints\u001b[49m\u001b[38;5;241;43m.\u001b[39;49m\u001b[43mget_single\u001b[49m\u001b[43m(\u001b[49m\u001b[38;5;28;43mself\u001b[39;49m\u001b[38;5;241;43m.\u001b[39;49m\u001b[43mentry_point_group\u001b[49m\u001b[43m,\u001b[49m\u001b[43m \u001b[49m\u001b[43mname\u001b[49m\u001b[43m)\u001b[49m\n\u001b[0;32m    143\u001b[0m \u001b[38;5;28;01mexcept\u001b[39;00m entrypoints\u001b[38;5;241m.\u001b[39mNoSuchEntryPoint:\n",
      "File \u001b[1;32mC:\\ProgramData\\anaconda3\\lib\\site-packages\\entrypoints.py:218\u001b[0m, in \u001b[0;36mget_single\u001b[1;34m(group, name, path)\u001b[0m\n\u001b[0;32m    216\u001b[0m             \u001b[38;5;28;01mreturn\u001b[39;00m EntryPoint\u001b[38;5;241m.\u001b[39mfrom_string(epstr, name, distro)\n\u001b[1;32m--> 218\u001b[0m \u001b[38;5;28;01mraise\u001b[39;00m NoSuchEntryPoint(group, name)\n",
      "\u001b[1;31mNoSuchEntryPoint\u001b[0m: No 'notebook' entry point found in group 'altair.vegalite.v4.renderer'",
      "\nDuring handling of the above exception, another exception occurred:\n",
      "\u001b[1;31mValueError\u001b[0m                                Traceback (most recent call last)",
      "Cell \u001b[1;32mIn[1], line 5\u001b[0m\n\u001b[0;32m      2\u001b[0m \u001b[38;5;28;01mimport\u001b[39;00m \u001b[38;5;21;01mgeopandas\u001b[39;00m \u001b[38;5;28;01mas\u001b[39;00m \u001b[38;5;21;01mgpd\u001b[39;00m\n\u001b[0;32m      3\u001b[0m \u001b[38;5;28;01mimport\u001b[39;00m \u001b[38;5;21;01mgpdvega\u001b[39;00m\n\u001b[1;32m----> 5\u001b[0m \u001b[43malt\u001b[49m\u001b[38;5;241;43m.\u001b[39;49m\u001b[43mrenderers\u001b[49m\u001b[38;5;241;43m.\u001b[39;49m\u001b[43menable\u001b[49m\u001b[43m(\u001b[49m\u001b[38;5;124;43m'\u001b[39;49m\u001b[38;5;124;43mnotebook\u001b[39;49m\u001b[38;5;124;43m'\u001b[39;49m\u001b[43m)\u001b[49m \u001b[38;5;66;03m# render for Jupyter Notebook\u001b[39;00m\n\u001b[0;32m      6\u001b[0m alt\u001b[38;5;241m.\u001b[39mdata_transformers\u001b[38;5;241m.\u001b[39menable(consolidate_datasets\u001b[38;5;241m=\u001b[39m\u001b[38;5;28;01mFalse\u001b[39;00m) \u001b[38;5;66;03m# altair issue #1091\u001b[39;00m\n\u001b[0;32m      8\u001b[0m world \u001b[38;5;241m=\u001b[39m gpd\u001b[38;5;241m.\u001b[39mread_file(gpd\u001b[38;5;241m.\u001b[39mdatasets\u001b[38;5;241m.\u001b[39mget_path(\u001b[38;5;124m'\u001b[39m\u001b[38;5;124mnaturalearth_lowres\u001b[39m\u001b[38;5;124m'\u001b[39m))\n",
      "File \u001b[1;32m~\\AppData\\Roaming\\Python\\Python310\\site-packages\\altair\\utils\\plugin_registry.py:177\u001b[0m, in \u001b[0;36mPluginRegistry.enable\u001b[1;34m(self, name, **options)\u001b[0m\n\u001b[0;32m    175\u001b[0m \u001b[38;5;28;01mif\u001b[39;00m name \u001b[38;5;129;01mis\u001b[39;00m \u001b[38;5;28;01mNone\u001b[39;00m:\n\u001b[0;32m    176\u001b[0m     name \u001b[38;5;241m=\u001b[39m \u001b[38;5;28mself\u001b[39m\u001b[38;5;241m.\u001b[39mactive\n\u001b[1;32m--> 177\u001b[0m \u001b[38;5;28;01mreturn\u001b[39;00m PluginEnabler(\u001b[38;5;28mself\u001b[39m, name, \u001b[38;5;241m*\u001b[39m\u001b[38;5;241m*\u001b[39moptions)\n",
      "File \u001b[1;32m~\\AppData\\Roaming\\Python\\Python310\\site-packages\\altair\\utils\\plugin_registry.py:27\u001b[0m, in \u001b[0;36mPluginEnabler.__init__\u001b[1;34m(self, registry, name, **options)\u001b[0m\n\u001b[0;32m     25\u001b[0m \u001b[38;5;28mself\u001b[39m\u001b[38;5;241m.\u001b[39moptions \u001b[38;5;241m=\u001b[39m options  \u001b[38;5;66;03m# type: Dict[str, Any]\u001b[39;00m\n\u001b[0;32m     26\u001b[0m \u001b[38;5;28mself\u001b[39m\u001b[38;5;241m.\u001b[39moriginal_state \u001b[38;5;241m=\u001b[39m registry\u001b[38;5;241m.\u001b[39m_get_state()  \u001b[38;5;66;03m# type: Dict[str, Any]\u001b[39;00m\n\u001b[1;32m---> 27\u001b[0m \u001b[38;5;28mself\u001b[39m\u001b[38;5;241m.\u001b[39mregistry\u001b[38;5;241m.\u001b[39m_enable(name, \u001b[38;5;241m*\u001b[39m\u001b[38;5;241m*\u001b[39moptions)\n",
      "File \u001b[1;32m~\\AppData\\Roaming\\Python\\Python310\\site-packages\\altair\\utils\\plugin_registry.py:145\u001b[0m, in \u001b[0;36mPluginRegistry._enable\u001b[1;34m(self, name, **options)\u001b[0m\n\u001b[0;32m    143\u001b[0m \u001b[38;5;28;01mexcept\u001b[39;00m entrypoints\u001b[38;5;241m.\u001b[39mNoSuchEntryPoint:\n\u001b[0;32m    144\u001b[0m     \u001b[38;5;28;01mif\u001b[39;00m name \u001b[38;5;129;01min\u001b[39;00m \u001b[38;5;28mself\u001b[39m\u001b[38;5;241m.\u001b[39mentrypoint_err_messages:\n\u001b[1;32m--> 145\u001b[0m         \u001b[38;5;28;01mraise\u001b[39;00m \u001b[38;5;167;01mValueError\u001b[39;00m(\u001b[38;5;28mself\u001b[39m\u001b[38;5;241m.\u001b[39mentrypoint_err_messages[name])\n\u001b[0;32m    146\u001b[0m     \u001b[38;5;28;01melse\u001b[39;00m:\n\u001b[0;32m    147\u001b[0m         \u001b[38;5;28;01mraise\u001b[39;00m\n",
      "\u001b[1;31mValueError\u001b[0m: \nTo use the 'notebook' renderer, you must install the vega package\nand the associated Jupyter extension.\nSee https://altair-viz.github.io/getting_started/installation.html\nfor more information.\n"
     ]
    }
   ],
   "source": [
    "import altair as alt\n",
    "import geopandas as gpd\n",
    "import gpdvega\n",
    "\n",
    "alt.renderers.enable('notebook') # render for Jupyter Notebook\n",
    "alt.data_transformers.enable(consolidate_datasets=False) # altair issue #1091\n",
    "\n",
    "world = gpd.read_file(gpd.datasets.get_path('naturalearth_lowres'))\n",
    "\n",
    "alt.Chart(\n",
    "    data = gpdvega.geojson_feature( # converting to GeoJSON object\n",
    "                world[world.continent=='Africa'],\n",
    "                \"features\" # split collection of features into objects\n",
    "        )\n",
    ").mark_geoshape(\n",
    ").project(\n",
    ").encode(\n",
    "    fill = alt.Color('id:N',legend=None),\n",
    "    # data values are stored under nested `properties` object\n",
    "    tooltip=['properties.name:O'],\n",
    ").properties(\n",
    "    width=500,\n",
    "    height=300\n",
    ")"
   ]
  },
  {
   "cell_type": "code",
   "execution_count": 2,
   "id": "b08e6821",
   "metadata": {
    "scrolled": true
   },
   "outputs": [
    {
     "data": {
      "text/html": [
       "\n",
       "<div id=\"altair-viz-a31d989f70f94cdcab17fe0e9e5f7e83\"></div>\n",
       "<script type=\"text/javascript\">\n",
       "  var VEGA_DEBUG = (typeof VEGA_DEBUG == \"undefined\") ? {} : VEGA_DEBUG;\n",
       "  (function(spec, embedOpt){\n",
       "    let outputDiv = document.currentScript.previousElementSibling;\n",
       "    if (outputDiv.id !== \"altair-viz-a31d989f70f94cdcab17fe0e9e5f7e83\") {\n",
       "      outputDiv = document.getElementById(\"altair-viz-a31d989f70f94cdcab17fe0e9e5f7e83\");\n",
       "    }\n",
       "    const paths = {\n",
       "      \"vega\": \"https://cdn.jsdelivr.net/npm//vega@5?noext\",\n",
       "      \"vega-lib\": \"https://cdn.jsdelivr.net/npm//vega-lib?noext\",\n",
       "      \"vega-lite\": \"https://cdn.jsdelivr.net/npm//vega-lite@4.17.0?noext\",\n",
       "      \"vega-embed\": \"https://cdn.jsdelivr.net/npm//vega-embed@6?noext\",\n",
       "    };\n",
       "\n",
       "    function maybeLoadScript(lib, version) {\n",
       "      var key = `${lib.replace(\"-\", \"\")}_version`;\n",
       "      return (VEGA_DEBUG[key] == version) ?\n",
       "        Promise.resolve(paths[lib]) :\n",
       "        new Promise(function(resolve, reject) {\n",
       "          var s = document.createElement('script');\n",
       "          document.getElementsByTagName(\"head\")[0].appendChild(s);\n",
       "          s.async = true;\n",
       "          s.onload = () => {\n",
       "            VEGA_DEBUG[key] = version;\n",
       "            return resolve(paths[lib]);\n",
       "          };\n",
       "          s.onerror = () => reject(`Error loading script: ${paths[lib]}`);\n",
       "          s.src = paths[lib];\n",
       "        });\n",
       "    }\n",
       "\n",
       "    function showError(err) {\n",
       "      outputDiv.innerHTML = `<div class=\"error\" style=\"color:red;\">${err}</div>`;\n",
       "      throw err;\n",
       "    }\n",
       "\n",
       "    function displayChart(vegaEmbed) {\n",
       "      vegaEmbed(outputDiv, spec, embedOpt)\n",
       "        .catch(err => showError(`Javascript Error: ${err.message}<br>This usually means there's a typo in your chart specification. See the javascript console for the full traceback.`));\n",
       "    }\n",
       "\n",
       "    if(typeof define === \"function\" && define.amd) {\n",
       "      requirejs.config({paths});\n",
       "      require([\"vega-embed\"], displayChart, err => showError(`Error loading script: ${err.message}`));\n",
       "    } else {\n",
       "      maybeLoadScript(\"vega\", \"5\")\n",
       "        .then(() => maybeLoadScript(\"vega-lite\", \"4.17.0\"))\n",
       "        .then(() => maybeLoadScript(\"vega-embed\", \"6\"))\n",
       "        .catch(showError)\n",
       "        .then(() => displayChart(vegaEmbed));\n",
       "    }\n",
       "  })({\"config\": {\"view\": {\"continuousWidth\": 400, \"continuousHeight\": 300, \"stroke\": null}}, \"layer\": [{\"data\": {\"sphere\": true}, \"mark\": {\"type\": \"geoshape\", \"fill\": \"lightblue\"}}, {\"data\": {\"graticule\": true}, \"mark\": {\"type\": \"geoshape\", \"stroke\": \"white\", \"strokeWidth\": 0.5}}, {\"data\": {\"url\": \"https://cdn.jsdelivr.net/npm/vega-datasets@v1.29.0/data/world-110m.json\", \"format\": {\"feature\": \"countries\", \"type\": \"topojson\"}}, \"mark\": {\"type\": \"geoshape\", \"fill\": \"ForestGreen\", \"stroke\": \"black\"}}], \"height\": 400, \"projection\": {\"type\": \"naturalEarth1\"}, \"width\": 600, \"$schema\": \"https://vega.github.io/schema/vega-lite/v4.17.0.json\"}, {\"mode\": \"vega-lite\"});\n",
       "</script>"
      ],
      "text/plain": [
       "alt.LayerChart(...)"
      ]
     },
     "execution_count": 2,
     "metadata": {},
     "output_type": "execute_result"
    }
   ],
   "source": [
    "# world map view\n",
    "import altair as alt\n",
    "from vega_datasets import data\n",
    "\n",
    "# Data generators for the background\n",
    "sphere = alt.sphere()\n",
    "graticule = alt.graticule()\n",
    "\n",
    "# Source of land data\n",
    "source = alt.topo_feature(data.world_110m.url, 'countries')\n",
    "\n",
    "# Layering and configuring the components\n",
    "alt.layer(\n",
    "    alt.Chart(sphere).mark_geoshape(fill='lightblue'),\n",
    "    alt.Chart(graticule).mark_geoshape(stroke='white', strokeWidth=0.5),\n",
    "    alt.Chart(source).mark_geoshape(fill='ForestGreen', stroke='black')\n",
    ").project(\n",
    "    'naturalEarth1'\n",
    ").properties(width=600, height=400).configure_view(stroke=None)"
   ]
  },
  {
   "cell_type": "code",
   "execution_count": 3,
   "id": "c3eaf3b9",
   "metadata": {},
   "outputs": [
    {
     "data": {
      "text/html": [
       "\n",
       "<div id=\"altair-viz-80b4bd0c2ddc489598300a7f982641a1\"></div>\n",
       "<script type=\"text/javascript\">\n",
       "  var VEGA_DEBUG = (typeof VEGA_DEBUG == \"undefined\") ? {} : VEGA_DEBUG;\n",
       "  (function(spec, embedOpt){\n",
       "    let outputDiv = document.currentScript.previousElementSibling;\n",
       "    if (outputDiv.id !== \"altair-viz-80b4bd0c2ddc489598300a7f982641a1\") {\n",
       "      outputDiv = document.getElementById(\"altair-viz-80b4bd0c2ddc489598300a7f982641a1\");\n",
       "    }\n",
       "    const paths = {\n",
       "      \"vega\": \"https://cdn.jsdelivr.net/npm//vega@5?noext\",\n",
       "      \"vega-lib\": \"https://cdn.jsdelivr.net/npm//vega-lib?noext\",\n",
       "      \"vega-lite\": \"https://cdn.jsdelivr.net/npm//vega-lite@4.17.0?noext\",\n",
       "      \"vega-embed\": \"https://cdn.jsdelivr.net/npm//vega-embed@6?noext\",\n",
       "    };\n",
       "\n",
       "    function maybeLoadScript(lib, version) {\n",
       "      var key = `${lib.replace(\"-\", \"\")}_version`;\n",
       "      return (VEGA_DEBUG[key] == version) ?\n",
       "        Promise.resolve(paths[lib]) :\n",
       "        new Promise(function(resolve, reject) {\n",
       "          var s = document.createElement('script');\n",
       "          document.getElementsByTagName(\"head\")[0].appendChild(s);\n",
       "          s.async = true;\n",
       "          s.onload = () => {\n",
       "            VEGA_DEBUG[key] = version;\n",
       "            return resolve(paths[lib]);\n",
       "          };\n",
       "          s.onerror = () => reject(`Error loading script: ${paths[lib]}`);\n",
       "          s.src = paths[lib];\n",
       "        });\n",
       "    }\n",
       "\n",
       "    function showError(err) {\n",
       "      outputDiv.innerHTML = `<div class=\"error\" style=\"color:red;\">${err}</div>`;\n",
       "      throw err;\n",
       "    }\n",
       "\n",
       "    function displayChart(vegaEmbed) {\n",
       "      vegaEmbed(outputDiv, spec, embedOpt)\n",
       "        .catch(err => showError(`Javascript Error: ${err.message}<br>This usually means there's a typo in your chart specification. See the javascript console for the full traceback.`));\n",
       "    }\n",
       "\n",
       "    if(typeof define === \"function\" && define.amd) {\n",
       "      requirejs.config({paths});\n",
       "      require([\"vega-embed\"], displayChart, err => showError(`Error loading script: ${err.message}`));\n",
       "    } else {\n",
       "      maybeLoadScript(\"vega\", \"5\")\n",
       "        .then(() => maybeLoadScript(\"vega-lite\", \"4.17.0\"))\n",
       "        .then(() => maybeLoadScript(\"vega-embed\", \"6\"))\n",
       "        .catch(showError)\n",
       "        .then(() => displayChart(vegaEmbed));\n",
       "    }\n",
       "  })({\"config\": {\"view\": {\"continuousWidth\": 400, \"continuousHeight\": 300}}, \"concat\": [{\"mark\": {\"type\": \"geoshape\", \"fill\": \"#666666\", \"stroke\": \"white\"}, \"height\": 180, \"projection\": {\"type\": \"equirectangular\"}, \"title\": \"equirectangular\", \"width\": 300}, {\"mark\": {\"type\": \"geoshape\", \"fill\": \"#666666\", \"stroke\": \"white\"}, \"height\": 180, \"projection\": {\"type\": \"mercator\"}, \"title\": \"mercator\", \"width\": 300}, {\"mark\": {\"type\": \"geoshape\", \"fill\": \"#666666\", \"stroke\": \"white\"}, \"height\": 180, \"projection\": {\"type\": \"orthographic\"}, \"title\": \"orthographic\", \"width\": 300}, {\"mark\": {\"type\": \"geoshape\", \"fill\": \"#666666\", \"stroke\": \"white\"}, \"height\": 180, \"projection\": {\"type\": \"gnomonic\"}, \"title\": \"gnomonic\", \"width\": 300}], \"columns\": 2, \"data\": {\"url\": \"https://cdn.jsdelivr.net/npm/vega-datasets@v1.29.0/data/world-110m.json\", \"format\": {\"feature\": \"countries\", \"type\": \"topojson\"}}, \"$schema\": \"https://vega.github.io/schema/vega-lite/v4.17.0.json\"}, {\"mode\": \"vega-lite\"});\n",
       "</script>"
      ],
      "text/plain": [
       "alt.ConcatChart(...)"
      ]
     },
     "execution_count": 3,
     "metadata": {},
     "output_type": "execute_result"
    }
   ],
   "source": [
    "import altair as alt\n",
    "from vega_datasets import data\n",
    "\n",
    "source = alt.topo_feature(data.world_110m.url, 'countries')\n",
    "\n",
    "base = alt.Chart(source).mark_geoshape(\n",
    "    fill='#666666',\n",
    "    stroke='white'\n",
    ").properties(\n",
    "    width=300,\n",
    "    height=180\n",
    ")\n",
    "\n",
    "projections = ['equirectangular', 'mercator', 'orthographic', 'gnomonic']\n",
    "charts = [base.project(proj).properties(title=proj)\n",
    "          for proj in projections]\n",
    "\n",
    "alt.concat(*charts, columns=2)"
   ]
  }
 ],
 "metadata": {
  "kernelspec": {
   "display_name": "Python 3 (ipykernel)",
   "language": "python",
   "name": "python3"
  },
  "language_info": {
   "codemirror_mode": {
    "name": "ipython",
    "version": 3
   },
   "file_extension": ".py",
   "mimetype": "text/x-python",
   "name": "python",
   "nbconvert_exporter": "python",
   "pygments_lexer": "ipython3",
   "version": "3.10.9"
  }
 },
 "nbformat": 4,
 "nbformat_minor": 5
}
