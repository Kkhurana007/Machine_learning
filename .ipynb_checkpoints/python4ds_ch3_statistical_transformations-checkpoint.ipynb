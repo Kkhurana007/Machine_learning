{
 "cells": [
  {
   "cell_type": "markdown",
   "id": "d36bc0a7",
   "metadata": {},
   "source": [
    "### exploring diamond's dataset for statistical_variations"
   ]
  },
  {
   "cell_type": "markdown",
   "id": "c4abda46",
   "metadata": {},
   "source": [
    "### Remarks-\n",
    "- Disable the maximum rows with this command- \"alt.data_transformers.disable_max_rows() if the number exceeds 5000\"\n",
    "- use .properties() instead of .save() to display the illustrations as outputs. The only problem though is that two outputs can not be executed in the single cell\n",
    "- made boxplots with _mark.boxplots(). Next, a bar chart was colored either using the 'stroke aesthetic', or, more usefully, 'color'\n",
    "- for bars, with variable 'clarity' they are automatically stacked with the help of _mark.bar().\n",
    "    - stacked the bar graphs\n",
    "    - compared the bar-graphs with the common baseline\n",
    "- Interactive bar maps from a single data source"
   ]
  },
  {
   "cell_type": "code",
   "execution_count": null,
   "id": "0eaf8346",
   "metadata": {},
   "outputs": [],
   "source": [
    "# installing missing libraries such as geopandas, gpdvega"
   ]
  },
  {
   "cell_type": "code",
   "execution_count": null,
   "id": "4181d061",
   "metadata": {},
   "outputs": [],
   "source": [
    "pip install geopandas"
   ]
  },
  {
   "cell_type": "code",
   "execution_count": null,
   "id": "42665a85",
   "metadata": {},
   "outputs": [],
   "source": [
    "pip install gpdvega"
   ]
  },
  {
   "cell_type": "code",
   "execution_count": null,
   "id": "4169dc8d",
   "metadata": {
    "scrolled": true
   },
   "outputs": [],
   "source": [
    "pip install -e ."
   ]
  },
  {
   "cell_type": "code",
   "execution_count": null,
   "id": "e0f578b3",
   "metadata": {},
   "outputs": [],
   "source": [
    "pip install -- upgrade pip"
   ]
  },
  {
   "cell_type": "code",
   "execution_count": null,
   "id": "7f246bd6",
   "metadata": {},
   "outputs": [],
   "source": [
    "#importing dictionaries\n",
    "import pandas as pd   \n",
    "import altair as alt  "
   ]
  },
  {
   "cell_type": "code",
   "execution_count": null,
   "id": "60ef7625",
   "metadata": {},
   "outputs": [],
   "source": [
    "url = \"https://github.com/byuidatascience/data4python4ds/raw/master/data-raw/diamonds/diamonds.csv\"\n",
    "diamonds = pd.read_csv(url)\n",
    "\n",
    "diamonds['cut'] = pd.Categorical(diamonds.cut, \n",
    "  ordered = True, \n",
    "  categories =  [\"Fair\", \"Good\", \"Very Good\", \"Premium\", \"Ideal\" ])\n",
    "\n",
    "diamonds['color'] = pd.Categorical(diamonds.color, \n",
    "  ordered = True, \n",
    "  categories =  [\"D\", \"E\", \"F\", \"G\", \"H\", \"I\", \"J\"])\n",
    "\n",
    "\n",
    "diamonds['clarity'] = pd.Categorical(diamonds.clarity, \n",
    "  ordered = True, \n",
    "  categories =  [\"I1\", \"SI2\", \"SI1\", \"VS2\", \"VS1\", \"VVS2\", \"VVS1\", \"IF\"])"
   ]
  },
  {
   "cell_type": "code",
   "execution_count": null,
   "id": "d2616013",
   "metadata": {},
   "outputs": [],
   "source": [
    "alt.data_transformers.disable_max_rows()"
   ]
  },
  {
   "cell_type": "code",
   "execution_count": null,
   "id": "25be11c9",
   "metadata": {},
   "outputs": [],
   "source": [
    "chart = (alt.Chart(diamonds)\n",
    "  .encode(\n",
    "    x = \"cut\",\n",
    "    y = alt.Y(\"count():Q\")\n",
    "    )\n",
    "  .mark_bar()\n",
    "  .properties(width = 400))\n",
    "\n",
    "chart.properties()"
   ]
  },
  {
   "cell_type": "code",
   "execution_count": null,
   "id": "7c078111",
   "metadata": {},
   "outputs": [],
   "source": []
  },
  {
   "cell_type": "markdown",
   "id": "f2d25a50",
   "metadata": {},
   "source": [
    "contains information about ~54,000 diamonds, including the price, carat, color, clarity, and cut of each diamond"
   ]
  },
  {
   "cell_type": "code",
   "execution_count": null,
   "id": "054653d5",
   "metadata": {},
   "outputs": [],
   "source": [
    "chart = (alt.Chart(diamonds)\n",
    "  .encode(\n",
    "    x =alt.X(\"price\", bin=True),\n",
    "    y =alt.Y(\"count()\")\n",
    "    )\n",
    "  .mark_bar())\n",
    "\n",
    "chart.properties()"
   ]
  },
  {
   "cell_type": "code",
   "execution_count": null,
   "id": "36328297",
   "metadata": {},
   "outputs": [],
   "source": [
    "chart = (alt.Chart(diamonds)\n",
    "  .encode(\n",
    "    y =\"price\",\n",
    "    x =\"cut\"\n",
    "    )\n",
    "  .mark_boxplot(size = 25)\n",
    "  .properties(width = 300))\n",
    "\n",
    "chart.properties()"
   ]
  },
  {
   "cell_type": "code",
   "execution_count": null,
   "id": "862294fb",
   "metadata": {},
   "outputs": [],
   "source": [
    "chart_left = (alt.Chart(diamonds)\n",
    "  .encode(\n",
    "    x = \"cut\",\n",
    "    y = alt.Y(\"count()\"),\n",
    "    stroke = \"cut\"\n",
    "    )\n",
    "  .mark_bar()\n",
    "  .properties(width = 200))\n",
    "  \n",
    "chart_right = (alt.Chart(diamonds)\n",
    "  .encode(\n",
    "    x = \"cut\",\n",
    "    y = alt.Y(\"count()\"),\n",
    "    color = \"cut\"\n",
    "    )\n",
    "  .mark_bar()\n",
    "  .properties(width = 200)) \n",
    "\n",
    "chart_left.properties()"
   ]
  },
  {
   "cell_type": "code",
   "execution_count": null,
   "id": "4b16f586",
   "metadata": {},
   "outputs": [],
   "source": [
    "chart_right.properties()"
   ]
  },
  {
   "cell_type": "code",
   "execution_count": null,
   "id": "1ce7c9f3",
   "metadata": {},
   "outputs": [],
   "source": [
    "\n",
    "chart = (alt.Chart(diamonds)\n",
    "  .encode(\n",
    "    x = \"cut\",\n",
    "    y = alt.Y(\"count()\"),\n",
    "    color = \"clarity\"\n",
    "    )\n",
    "  .mark_bar()\n",
    "  .properties(width = 200))\n",
    "\n",
    "chart.properties()"
   ]
  },
  {
   "cell_type": "code",
   "execution_count": null,
   "id": "1d969f28",
   "metadata": {
    "scrolled": true
   },
   "outputs": [],
   "source": [
    "# now, we normalize the bar graphs to see the stacked position of it. \n",
    "\n",
    "chart = (alt.Chart(diamonds)\n",
    "  .mark_bar()\n",
    "  .encode(\n",
    "    x = \"cut\",\n",
    "    y = alt.Y(\"count()\", stack='normalize'),\n",
    "    color = \"clarity\"\n",
    "    )\n",
    "  .mark_bar()\n",
    "  .properties(width = 200))\n",
    "\n",
    "chart.properties()"
   ]
  },
  {
   "cell_type": "code",
   "execution_count": null,
   "id": "2e34c77f",
   "metadata": {},
   "outputs": [],
   "source": [
    "# comparing the bar-graphs with the commonbaseline\n",
    "\n",
    "chart = (alt.Chart(diamonds)\n",
    "  .encode(\n",
    "    x='clarity',\n",
    "    y=alt.Y('count()'),\n",
    "    color='clarity',\n",
    "    column='cut'\n",
    "    )\n",
    "  .mark_bar())\n",
    "\n",
    "chart.properties()"
   ]
  },
  {
   "cell_type": "code",
   "execution_count": null,
   "id": "9b9ebfc5",
   "metadata": {},
   "outputs": [],
   "source": [
    "#Interactive bar maps from a single data source\n",
    "# the graph shows the population of an african continent\n",
    "\n",
    "import altair as alt\n",
    "import geopandas as gpd\n",
    "import gpdvega\n",
    "\n",
    "alt.renderers.enable('notebook') # render for Jupyter Notebook\n",
    "\n",
    "world = gpd.read_file(gpd.datasets.get_path('naturalearth_lowres'))\n",
    "\n",
    "brush = alt.selection_single(encodings=[\"y\"],on=\"mouseover\", empty='none')\n",
    "color = alt.Color('pop_est', scale= alt.Scale(type='pow', exponent=0.4))\n",
    "\n",
    "alt.hconcat(\n",
    "    alt.Chart().mark_bar().encode(\n",
    "        x=alt.X('pop_est', scale=alt.Scale(nice=False)),\n",
    "        y=alt.Y('name', sort=alt.EncodingSortField(field='pop_est',\n",
    "                                            op='sum', order='descending')),\n",
    "        tooltip=['name','pop_est','gdp_md_est'],\n",
    "        color=alt.condition(brush, alt.value('lightgray'), color)\n",
    "        ).add_selection(\n",
    "            brush\n",
    "        ).properties(\n",
    "            width=200,\n",
    "    \n",
    "            height=450\n",
    "        ),\n",
    "    alt.Chart().mark_geoshape().project().encode(\n",
    "        color=alt.condition(\n",
    "            brush,\n",
    "            alt.value('lightgray'),\n",
    "            color,\n",
    "        ),\n",
    "        tooltip=['name','pop_est','gdp_md_est'],\n",
    "        ).properties(\n",
    "            width=300,\n",
    "            height=450,\n",
    "            title='Africa population'\n",
    "        ),\n",
    "    data=world[world.continent == 'Africa']\n",
    ")"
   ]
  },
  {
   "cell_type": "code",
   "execution_count": null,
   "id": "e8835221",
   "metadata": {},
   "outputs": [],
   "source": [
    "import altair as alt\n",
    "import geopandas as gpd\n",
    "import gpdvega\n",
    "\n",
    "alt.renderers.enable('notebook') # render for Jupyter Notebook\n",
    "alt.data_transformers.enable(consolidate_datasets=False) # altair issue #1091\n",
    "\n",
    "world = gpd.read_file(gpd.datasets.get_path('naturalearth_lowres'))\n",
    "\n",
    "alt.Chart(\n",
    "    data = gpdvega.geojson_feature( # converting to GeoJSON object\n",
    "                world[world.continent=='Africa'],\n",
    "                \"features\" # split collection of features into objects\n",
    "        )\n",
    ").mark_geoshape(\n",
    ").project(\n",
    ").encode(\n",
    "    fill = alt.Color('id:N',legend=None),\n",
    "    # data values are stored under nested `properties` object\n",
    "    tooltip=['properties.name:O'],\n",
    ").properties(\n",
    "    width=500,\n",
    "    height=300\n",
    ")"
   ]
  }
 ],
 "metadata": {
  "kernelspec": {
   "display_name": "Python 3 (ipykernel)",
   "language": "python",
   "name": "python3"
  },
  "language_info": {
   "codemirror_mode": {
    "name": "ipython",
    "version": 3
   },
   "file_extension": ".py",
   "mimetype": "text/x-python",
   "name": "python",
   "nbconvert_exporter": "python",
   "pygments_lexer": "ipython3",
   "version": "3.10.9"
  }
 },
 "nbformat": 4,
 "nbformat_minor": 5
}
