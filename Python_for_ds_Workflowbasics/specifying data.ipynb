{
 "cells": [
  {
   "cell_type": "markdown",
   "id": "c6c1051e",
   "metadata": {},
   "source": [
    "There are many ways of specifying the datasets-\n",
    "1) as a pandas dataframe\n",
    "2) as a data or related object (urldata, inlinedata, nameddata)\n",
    "3) as a url joining json or csv\n",
    "here is a list to know more https://altair-viz.github.io/user_guide/data.html#id1 "
   ]
  },
  {
   "cell_type": "markdown",
   "id": "c4c7f29a",
   "metadata": {},
   "source": [
    "### 1. using pandas data frame\n",
    "where x-colomn should be visualized on quantitative scale and y-colomn to be visualised as categorical(nominal) scale"
   ]
  },
  {
   "cell_type": "code",
   "execution_count": 1,
   "id": "305efafe",
   "metadata": {},
   "outputs": [
    {
     "data": {
      "text/html": [
       "\n",
       "<div id=\"altair-viz-ab2dfd9fcd044980afabc2f78600ec06\"></div>\n",
       "<script type=\"text/javascript\">\n",
       "  var VEGA_DEBUG = (typeof VEGA_DEBUG == \"undefined\") ? {} : VEGA_DEBUG;\n",
       "  (function(spec, embedOpt){\n",
       "    let outputDiv = document.currentScript.previousElementSibling;\n",
       "    if (outputDiv.id !== \"altair-viz-ab2dfd9fcd044980afabc2f78600ec06\") {\n",
       "      outputDiv = document.getElementById(\"altair-viz-ab2dfd9fcd044980afabc2f78600ec06\");\n",
       "    }\n",
       "    const paths = {\n",
       "      \"vega\": \"https://cdn.jsdelivr.net/npm//vega@5?noext\",\n",
       "      \"vega-lib\": \"https://cdn.jsdelivr.net/npm//vega-lib?noext\",\n",
       "      \"vega-lite\": \"https://cdn.jsdelivr.net/npm//vega-lite@4.17.0?noext\",\n",
       "      \"vega-embed\": \"https://cdn.jsdelivr.net/npm//vega-embed@6?noext\",\n",
       "    };\n",
       "\n",
       "    function maybeLoadScript(lib, version) {\n",
       "      var key = `${lib.replace(\"-\", \"\")}_version`;\n",
       "      return (VEGA_DEBUG[key] == version) ?\n",
       "        Promise.resolve(paths[lib]) :\n",
       "        new Promise(function(resolve, reject) {\n",
       "          var s = document.createElement('script');\n",
       "          document.getElementsByTagName(\"head\")[0].appendChild(s);\n",
       "          s.async = true;\n",
       "          s.onload = () => {\n",
       "            VEGA_DEBUG[key] = version;\n",
       "            return resolve(paths[lib]);\n",
       "          };\n",
       "          s.onerror = () => reject(`Error loading script: ${paths[lib]}`);\n",
       "          s.src = paths[lib];\n",
       "        });\n",
       "    }\n",
       "\n",
       "    function showError(err) {\n",
       "      outputDiv.innerHTML = `<div class=\"error\" style=\"color:red;\">${err}</div>`;\n",
       "      throw err;\n",
       "    }\n",
       "\n",
       "    function displayChart(vegaEmbed) {\n",
       "      vegaEmbed(outputDiv, spec, embedOpt)\n",
       "        .catch(err => showError(`Javascript Error: ${err.message}<br>This usually means there's a typo in your chart specification. See the javascript console for the full traceback.`));\n",
       "    }\n",
       "\n",
       "    if(typeof define === \"function\" && define.amd) {\n",
       "      requirejs.config({paths});\n",
       "      require([\"vega-embed\"], displayChart, err => showError(`Error loading script: ${err.message}`));\n",
       "    } else {\n",
       "      maybeLoadScript(\"vega\", \"5\")\n",
       "        .then(() => maybeLoadScript(\"vega-lite\", \"4.17.0\"))\n",
       "        .then(() => maybeLoadScript(\"vega-embed\", \"6\"))\n",
       "        .catch(showError)\n",
       "        .then(() => displayChart(vegaEmbed));\n",
       "    }\n",
       "  })({\"config\": {\"view\": {\"continuousWidth\": 400, \"continuousHeight\": 300}}, \"data\": {\"name\": \"data-865b0f7f64bff0a4a97037244e6476d1\"}, \"mark\": \"bar\", \"encoding\": {\"x\": {\"field\": \"x\", \"type\": \"nominal\"}, \"y\": {\"field\": \"y\", \"type\": \"quantitative\"}}, \"$schema\": \"https://vega.github.io/schema/vega-lite/v4.17.0.json\", \"datasets\": {\"data-865b0f7f64bff0a4a97037244e6476d1\": [{\"x\": \"A\", \"y\": 5}, {\"x\": \"B\", \"y\": 3}, {\"x\": \"C\", \"y\": 6}, {\"x\": \"D\", \"y\": 7}, {\"x\": \"E\", \"y\": 2}]}}, {\"mode\": \"vega-lite\"});\n",
       "</script>"
      ],
      "text/plain": [
       "alt.Chart(...)"
      ]
     },
     "execution_count": 1,
     "metadata": {},
     "output_type": "execute_result"
    }
   ],
   "source": [
    "import altair as alt\n",
    "import pandas as pd\n",
    "\n",
    "data = pd.DataFrame({'x': ['A', 'B', 'C', 'D', 'E'],\n",
    "                     'y': [5, 3, 6, 7, 2]})\n",
    "alt.Chart(data).mark_bar().encode(\n",
    "    x='x',\n",
    "    y='y',\n",
    ")"
   ]
  },
  {
   "cell_type": "markdown",
   "id": "439052bf",
   "metadata": {},
   "source": [
    "### 2. non-pandas dataframe using JSON-style list of records"
   ]
  },
  {
   "cell_type": "code",
   "execution_count": 3,
   "id": "f064908a",
   "metadata": {},
   "outputs": [
    {
     "data": {
      "text/html": [
       "\n",
       "<div id=\"altair-viz-d513763427844865b63522ed6fbefd40\"></div>\n",
       "<script type=\"text/javascript\">\n",
       "  var VEGA_DEBUG = (typeof VEGA_DEBUG == \"undefined\") ? {} : VEGA_DEBUG;\n",
       "  (function(spec, embedOpt){\n",
       "    let outputDiv = document.currentScript.previousElementSibling;\n",
       "    if (outputDiv.id !== \"altair-viz-d513763427844865b63522ed6fbefd40\") {\n",
       "      outputDiv = document.getElementById(\"altair-viz-d513763427844865b63522ed6fbefd40\");\n",
       "    }\n",
       "    const paths = {\n",
       "      \"vega\": \"https://cdn.jsdelivr.net/npm//vega@5?noext\",\n",
       "      \"vega-lib\": \"https://cdn.jsdelivr.net/npm//vega-lib?noext\",\n",
       "      \"vega-lite\": \"https://cdn.jsdelivr.net/npm//vega-lite@4.17.0?noext\",\n",
       "      \"vega-embed\": \"https://cdn.jsdelivr.net/npm//vega-embed@6?noext\",\n",
       "    };\n",
       "\n",
       "    function maybeLoadScript(lib, version) {\n",
       "      var key = `${lib.replace(\"-\", \"\")}_version`;\n",
       "      return (VEGA_DEBUG[key] == version) ?\n",
       "        Promise.resolve(paths[lib]) :\n",
       "        new Promise(function(resolve, reject) {\n",
       "          var s = document.createElement('script');\n",
       "          document.getElementsByTagName(\"head\")[0].appendChild(s);\n",
       "          s.async = true;\n",
       "          s.onload = () => {\n",
       "            VEGA_DEBUG[key] = version;\n",
       "            return resolve(paths[lib]);\n",
       "          };\n",
       "          s.onerror = () => reject(`Error loading script: ${paths[lib]}`);\n",
       "          s.src = paths[lib];\n",
       "        });\n",
       "    }\n",
       "\n",
       "    function showError(err) {\n",
       "      outputDiv.innerHTML = `<div class=\"error\" style=\"color:red;\">${err}</div>`;\n",
       "      throw err;\n",
       "    }\n",
       "\n",
       "    function displayChart(vegaEmbed) {\n",
       "      vegaEmbed(outputDiv, spec, embedOpt)\n",
       "        .catch(err => showError(`Javascript Error: ${err.message}<br>This usually means there's a typo in your chart specification. See the javascript console for the full traceback.`));\n",
       "    }\n",
       "\n",
       "    if(typeof define === \"function\" && define.amd) {\n",
       "      requirejs.config({paths});\n",
       "      require([\"vega-embed\"], displayChart, err => showError(`Error loading script: ${err.message}`));\n",
       "    } else {\n",
       "      maybeLoadScript(\"vega\", \"5\")\n",
       "        .then(() => maybeLoadScript(\"vega-lite\", \"4.17.0\"))\n",
       "        .then(() => maybeLoadScript(\"vega-embed\", \"6\"))\n",
       "        .catch(showError)\n",
       "        .then(() => displayChart(vegaEmbed));\n",
       "    }\n",
       "  })({\"config\": {\"view\": {\"continuousWidth\": 400, \"continuousHeight\": 300}}, \"data\": {\"values\": [{\"x\": \"A\", \"y\": 5}, {\"x\": \"B\", \"y\": 3}, {\"x\": \"C\", \"y\": 6}, {\"x\": \"D\", \"y\": 7}, {\"x\": \"E\", \"y\": 2}]}, \"mark\": \"bar\", \"encoding\": {\"x\": {\"field\": \"x\", \"type\": \"nominal\"}, \"y\": {\"field\": \"y\", \"type\": \"quantitative\"}}, \"$schema\": \"https://vega.github.io/schema/vega-lite/v4.17.0.json\"}, {\"mode\": \"vega-lite\"});\n",
       "</script>"
      ],
      "text/plain": [
       "alt.Chart(...)"
      ]
     },
     "execution_count": 3,
     "metadata": {},
     "output_type": "execute_result"
    }
   ],
   "source": [
    "import altair as alt\n",
    "\n",
    "data = alt.Data(values=[{'x': 'A', 'y': 5},\n",
    "                        {'x': 'B', 'y': 3},\n",
    "                        {'x': 'C', 'y': 6},\n",
    "                        {'x': 'D', 'y': 7},\n",
    "                        {'x': 'E', 'y': 2}])\n",
    "alt.Chart(data).mark_bar().encode(\n",
    "    x='x:N',  # specify nominal data\n",
    "    y='y:Q',  # specify quantitative data\n",
    ")"
   ]
  },
  {
   "cell_type": "markdown",
   "id": "18878805",
   "metadata": {},
   "source": [
    "### extra markup for encoding (includes- nominal, quantitative, ordinal, temporal, geojson, etc.)\n",
    "\n",
    "encoding shorthands https://altair-viz.github.io/user_guide/encodings/index.html#shorthand-description \n",
    "    \n",
    "encoding datatypes https://altair-viz.github.io/user_guide/encodings/index.html#encoding-data-types \n",
    "\n",
    "### 3. referencing data by url\n",
    "    "
   ]
  },
  {
   "cell_type": "code",
   "execution_count": 4,
   "id": "e8f395ef",
   "metadata": {},
   "outputs": [
    {
     "data": {
      "text/html": [
       "\n",
       "<div id=\"altair-viz-9ed0c1205c8f435da74cbe73f9300927\"></div>\n",
       "<script type=\"text/javascript\">\n",
       "  var VEGA_DEBUG = (typeof VEGA_DEBUG == \"undefined\") ? {} : VEGA_DEBUG;\n",
       "  (function(spec, embedOpt){\n",
       "    let outputDiv = document.currentScript.previousElementSibling;\n",
       "    if (outputDiv.id !== \"altair-viz-9ed0c1205c8f435da74cbe73f9300927\") {\n",
       "      outputDiv = document.getElementById(\"altair-viz-9ed0c1205c8f435da74cbe73f9300927\");\n",
       "    }\n",
       "    const paths = {\n",
       "      \"vega\": \"https://cdn.jsdelivr.net/npm//vega@5?noext\",\n",
       "      \"vega-lib\": \"https://cdn.jsdelivr.net/npm//vega-lib?noext\",\n",
       "      \"vega-lite\": \"https://cdn.jsdelivr.net/npm//vega-lite@4.17.0?noext\",\n",
       "      \"vega-embed\": \"https://cdn.jsdelivr.net/npm//vega-embed@6?noext\",\n",
       "    };\n",
       "\n",
       "    function maybeLoadScript(lib, version) {\n",
       "      var key = `${lib.replace(\"-\", \"\")}_version`;\n",
       "      return (VEGA_DEBUG[key] == version) ?\n",
       "        Promise.resolve(paths[lib]) :\n",
       "        new Promise(function(resolve, reject) {\n",
       "          var s = document.createElement('script');\n",
       "          document.getElementsByTagName(\"head\")[0].appendChild(s);\n",
       "          s.async = true;\n",
       "          s.onload = () => {\n",
       "            VEGA_DEBUG[key] = version;\n",
       "            return resolve(paths[lib]);\n",
       "          };\n",
       "          s.onerror = () => reject(`Error loading script: ${paths[lib]}`);\n",
       "          s.src = paths[lib];\n",
       "        });\n",
       "    }\n",
       "\n",
       "    function showError(err) {\n",
       "      outputDiv.innerHTML = `<div class=\"error\" style=\"color:red;\">${err}</div>`;\n",
       "      throw err;\n",
       "    }\n",
       "\n",
       "    function displayChart(vegaEmbed) {\n",
       "      vegaEmbed(outputDiv, spec, embedOpt)\n",
       "        .catch(err => showError(`Javascript Error: ${err.message}<br>This usually means there's a typo in your chart specification. See the javascript console for the full traceback.`));\n",
       "    }\n",
       "\n",
       "    if(typeof define === \"function\" && define.amd) {\n",
       "      requirejs.config({paths});\n",
       "      require([\"vega-embed\"], displayChart, err => showError(`Error loading script: ${err.message}`));\n",
       "    } else {\n",
       "      maybeLoadScript(\"vega\", \"5\")\n",
       "        .then(() => maybeLoadScript(\"vega-lite\", \"4.17.0\"))\n",
       "        .then(() => maybeLoadScript(\"vega-embed\", \"6\"))\n",
       "        .catch(showError)\n",
       "        .then(() => displayChart(vegaEmbed));\n",
       "    }\n",
       "  })({\"config\": {\"view\": {\"continuousWidth\": 400, \"continuousHeight\": 300}}, \"data\": {\"url\": \"https://cdn.jsdelivr.net/npm/vega-datasets@v1.29.0/data/cars.json\"}, \"mark\": \"point\", \"encoding\": {\"x\": {\"field\": \"Horsepower\", \"type\": \"quantitative\"}, \"y\": {\"field\": \"Miles_per_Gallon\", \"type\": \"quantitative\"}}, \"$schema\": \"https://vega.github.io/schema/vega-lite/v4.17.0.json\"}, {\"mode\": \"vega-lite\"});\n",
       "</script>"
      ],
      "text/plain": [
       "alt.Chart(...)"
      ]
     },
     "execution_count": 4,
     "metadata": {},
     "output_type": "execute_result"
    }
   ],
   "source": [
    "import altair as alt\n",
    "from vega_datasets import data\n",
    "url = data.cars.url\n",
    "\n",
    "alt.Chart(url).mark_point().encode(\n",
    "    x='Horsepower:Q',\n",
    "    y='Miles_per_Gallon:Q'\n",
    ")"
   ]
  },
  {
   "cell_type": "markdown",
   "id": "0b9947f3",
   "metadata": {},
   "source": [
    "### working with index data in pandas"
   ]
  },
  {
   "cell_type": "code",
   "execution_count": 5,
   "id": "e08ec893",
   "metadata": {},
   "outputs": [
    {
     "data": {
      "text/html": [
       "<div>\n",
       "<style scoped>\n",
       "    .dataframe tbody tr th:only-of-type {\n",
       "        vertical-align: middle;\n",
       "    }\n",
       "\n",
       "    .dataframe tbody tr th {\n",
       "        vertical-align: top;\n",
       "    }\n",
       "\n",
       "    .dataframe thead th {\n",
       "        text-align: right;\n",
       "    }\n",
       "</style>\n",
       "<table border=\"1\" class=\"dataframe\">\n",
       "  <thead>\n",
       "    <tr style=\"text-align: right;\">\n",
       "      <th></th>\n",
       "      <th>value</th>\n",
       "    </tr>\n",
       "  </thead>\n",
       "  <tbody>\n",
       "    <tr>\n",
       "      <th>2018-01-01</th>\n",
       "      <td>1.764052</td>\n",
       "    </tr>\n",
       "    <tr>\n",
       "      <th>2018-01-02</th>\n",
       "      <td>2.164210</td>\n",
       "    </tr>\n",
       "    <tr>\n",
       "      <th>2018-01-03</th>\n",
       "      <td>3.142948</td>\n",
       "    </tr>\n",
       "    <tr>\n",
       "      <th>2018-01-04</th>\n",
       "      <td>5.383841</td>\n",
       "    </tr>\n",
       "    <tr>\n",
       "      <th>2018-01-05</th>\n",
       "      <td>7.251399</td>\n",
       "    </tr>\n",
       "  </tbody>\n",
       "</table>\n",
       "</div>"
      ],
      "text/plain": [
       "               value\n",
       "2018-01-01  1.764052\n",
       "2018-01-02  2.164210\n",
       "2018-01-03  3.142948\n",
       "2018-01-04  5.383841\n",
       "2018-01-05  7.251399"
      ]
     },
     "execution_count": 5,
     "metadata": {},
     "output_type": "execute_result"
    }
   ],
   "source": [
    "import numpy as np\n",
    "rand = np.random.RandomState(0)\n",
    "\n",
    "data = pd.DataFrame({'value': rand.randn(100).cumsum()},\n",
    "                    index=pd.date_range('2018', freq='D', periods=100))\n",
    "data.head()"
   ]
  },
  {
   "cell_type": "markdown",
   "id": "aee0d50b",
   "metadata": {},
   "source": [
    "### using reset_index() method of pandas to turn the chart into a column"
   ]
  },
  {
   "cell_type": "code",
   "execution_count": 6,
   "id": "4c6327d7",
   "metadata": {},
   "outputs": [
    {
     "data": {
      "text/html": [
       "\n",
       "<div id=\"altair-viz-5d98e3cc2c2249eabaaf72632f77aac6\"></div>\n",
       "<script type=\"text/javascript\">\n",
       "  var VEGA_DEBUG = (typeof VEGA_DEBUG == \"undefined\") ? {} : VEGA_DEBUG;\n",
       "  (function(spec, embedOpt){\n",
       "    let outputDiv = document.currentScript.previousElementSibling;\n",
       "    if (outputDiv.id !== \"altair-viz-5d98e3cc2c2249eabaaf72632f77aac6\") {\n",
       "      outputDiv = document.getElementById(\"altair-viz-5d98e3cc2c2249eabaaf72632f77aac6\");\n",
       "    }\n",
       "    const paths = {\n",
       "      \"vega\": \"https://cdn.jsdelivr.net/npm//vega@5?noext\",\n",
       "      \"vega-lib\": \"https://cdn.jsdelivr.net/npm//vega-lib?noext\",\n",
       "      \"vega-lite\": \"https://cdn.jsdelivr.net/npm//vega-lite@4.17.0?noext\",\n",
       "      \"vega-embed\": \"https://cdn.jsdelivr.net/npm//vega-embed@6?noext\",\n",
       "    };\n",
       "\n",
       "    function maybeLoadScript(lib, version) {\n",
       "      var key = `${lib.replace(\"-\", \"\")}_version`;\n",
       "      return (VEGA_DEBUG[key] == version) ?\n",
       "        Promise.resolve(paths[lib]) :\n",
       "        new Promise(function(resolve, reject) {\n",
       "          var s = document.createElement('script');\n",
       "          document.getElementsByTagName(\"head\")[0].appendChild(s);\n",
       "          s.async = true;\n",
       "          s.onload = () => {\n",
       "            VEGA_DEBUG[key] = version;\n",
       "            return resolve(paths[lib]);\n",
       "          };\n",
       "          s.onerror = () => reject(`Error loading script: ${paths[lib]}`);\n",
       "          s.src = paths[lib];\n",
       "        });\n",
       "    }\n",
       "\n",
       "    function showError(err) {\n",
       "      outputDiv.innerHTML = `<div class=\"error\" style=\"color:red;\">${err}</div>`;\n",
       "      throw err;\n",
       "    }\n",
       "\n",
       "    function displayChart(vegaEmbed) {\n",
       "      vegaEmbed(outputDiv, spec, embedOpt)\n",
       "        .catch(err => showError(`Javascript Error: ${err.message}<br>This usually means there's a typo in your chart specification. See the javascript console for the full traceback.`));\n",
       "    }\n",
       "\n",
       "    if(typeof define === \"function\" && define.amd) {\n",
       "      requirejs.config({paths});\n",
       "      require([\"vega-embed\"], displayChart, err => showError(`Error loading script: ${err.message}`));\n",
       "    } else {\n",
       "      maybeLoadScript(\"vega\", \"5\")\n",
       "        .then(() => maybeLoadScript(\"vega-lite\", \"4.17.0\"))\n",
       "        .then(() => maybeLoadScript(\"vega-embed\", \"6\"))\n",
       "        .catch(showError)\n",
       "        .then(() => displayChart(vegaEmbed));\n",
       "    }\n",
       "  })({\"config\": {\"view\": {\"continuousWidth\": 400, \"continuousHeight\": 300}}, \"data\": {\"name\": \"data-dd19c1c673ba91c82c2873cf9b033163\"}, \"mark\": \"line\", \"encoding\": {\"x\": {\"field\": \"index\", \"type\": \"temporal\"}, \"y\": {\"field\": \"value\", \"type\": \"quantitative\"}}, \"$schema\": \"https://vega.github.io/schema/vega-lite/v4.17.0.json\", \"datasets\": {\"data-dd19c1c673ba91c82c2873cf9b033163\": [{\"index\": \"2018-01-01T00:00:00\", \"value\": 1.764052345967664}, {\"index\": \"2018-01-02T00:00:00\", \"value\": 2.1642095543348874}, {\"index\": \"2018-01-03T00:00:00\", \"value\": 3.1429475384406267}, {\"index\": \"2018-01-04T00:00:00\", \"value\": 5.3838407376420845}, {\"index\": \"2018-01-05T00:00:00\", \"value\": 7.251398727792052}, {\"index\": \"2018-01-06T00:00:00\", \"value\": 6.274120847915642}, {\"index\": \"2018-01-07T00:00:00\", \"value\": 7.224209265441231}, {\"index\": \"2018-01-08T00:00:00\", \"value\": 7.072852057143533}, {\"index\": \"2018-01-09T00:00:00\", \"value\": 6.969633205349975}, {\"index\": \"2018-01-10T00:00:00\", \"value\": 7.380231707288347}, {\"index\": \"2018-01-11T00:00:00\", \"value\": 7.524275278449225}, {\"index\": \"2018-01-12T00:00:00\", \"value\": 8.9785487854122}, {\"index\": \"2018-01-13T00:00:00\", \"value\": 9.739586510559192}, {\"index\": \"2018-01-14T00:00:00\", \"value\": 9.86126152705202}, {\"index\": \"2018-01-15T00:00:00\", \"value\": 10.305124759797446}, {\"index\": \"2018-01-16T00:00:00\", \"value\": 10.638799087171712}, {\"index\": \"2018-01-17T00:00:00\", \"value\": 12.132878160329318}, {\"index\": \"2018-01-18T00:00:00\", \"value\": 11.927719896563516}, {\"index\": \"2018-01-19T00:00:00\", \"value\": 12.240787598214418}, {\"index\": \"2018-01-20T00:00:00\", \"value\": 11.386691858912693}, {\"index\": \"2018-01-21T00:00:00\", \"value\": 8.833702043078613}, {\"index\": \"2018-01-22T00:00:00\", \"value\": 9.487320638518973}, {\"index\": \"2018-01-23T00:00:00\", \"value\": 10.35175683737848}, {\"index\": \"2018-01-24T00:00:00\", \"value\": 9.609591816972037}, {\"index\": \"2018-01-25T00:00:00\", \"value\": 11.879346440959644}, {\"index\": \"2018-01-26T00:00:00\", \"value\": 10.424980766360878}, {\"index\": \"2018-01-27T00:00:00\", \"value\": 10.470739283662324}, {\"index\": \"2018-01-28T00:00:00\", \"value\": 10.28355543363649}, {\"index\": \"2018-01-29T00:00:00\", \"value\": 11.816334647994948}, {\"index\": \"2018-01-30T00:00:00\", \"value\": 13.285693417895233}, {\"index\": \"2018-01-31T00:00:00\", \"value\": 13.44064084359215}, {\"index\": \"2018-02-01T00:00:00\", \"value\": 13.818803363194323}, {\"index\": \"2018-02-02T00:00:00\", \"value\": 12.93101761556421}, {\"index\": \"2018-02-03T00:00:00\", \"value\": 10.950221147340283}, {\"index\": \"2018-02-04T00:00:00\", \"value\": 10.60230899801413}, {\"index\": \"2018-02-05T00:00:00\", \"value\": 10.758657967118111}, {\"index\": \"2018-02-06T00:00:00\", \"value\": 11.988948647845833}, {\"index\": \"2018-02-07T00:00:00\", \"value\": 13.191328496630245}, {\"index\": \"2018-02-08T00:00:00\", \"value\": 12.804001679222292}, {\"index\": \"2018-02-09T00:00:00\", \"value\": 12.501698928646956}, {\"index\": \"2018-02-10T00:00:00\", \"value\": 11.453145963579864}, {\"index\": \"2018-02-11T00:00:00\", \"value\": 10.033128026400888}, {\"index\": \"2018-02-12T00:00:00\", \"value\": 8.326857835775876}, {\"index\": \"2018-02-13T00:00:00\", \"value\": 10.277633231007666}, {\"index\": \"2018-02-14T00:00:00\", \"value\": 9.767981049256013}, {\"index\": \"2018-02-15T00:00:00\", \"value\": 9.329906747644827}, {\"index\": \"2018-02-16T00:00:00\", \"value\": 8.0771113875949}, {\"index\": \"2018-02-17T00:00:00\", \"value\": 8.85460174342681}, {\"index\": \"2018-02-18T00:00:00\", \"value\": 7.240703895868859}, {\"index\": \"2018-02-19T00:00:00\", \"value\": 7.02796361565489}, {\"index\": \"2018-02-20T00:00:00\", \"value\": 6.132497054461215}, {\"index\": \"2018-02-21T00:00:00\", \"value\": 6.519399552320477}, {\"index\": \"2018-02-22T00:00:00\", \"value\": 6.008594414751604}, {\"index\": \"2018-02-23T00:00:00\", \"value\": 4.827962230629192}, {\"index\": \"2018-02-24T00:00:00\", \"value\": 4.799780002290537}, {\"index\": \"2018-02-25T00:00:00\", \"value\": 5.228111872820954}, {\"index\": \"2018-02-26T00:00:00\", \"value\": 5.294629095204122}, {\"index\": \"2018-02-27T00:00:00\", \"value\": 5.597100992943904}, {\"index\": \"2018-02-28T00:00:00\", \"value\": 4.962778899262941}, {\"index\": \"2018-03-01T00:00:00\", \"value\": 4.600037733275802}, {\"index\": \"2018-03-02T00:00:00\", \"value\": 3.927577285499851}, {\"index\": \"2018-03-03T00:00:00\", \"value\": 3.56802412395931}, {\"index\": \"2018-03-04T00:00:00\", \"value\": 2.7548778419148556}, {\"index\": \"2018-03-05T00:00:00\", \"value\": 1.0285952395831788}, {\"index\": \"2018-03-06T00:00:00\", \"value\": 1.2060213818369316}, {\"index\": \"2018-03-07T00:00:00\", \"value\": 0.8042404456286698}, {\"index\": \"2018-03-08T00:00:00\", \"value\": -0.8259579013373748}, {\"index\": \"2018-03-09T00:00:00\", \"value\": -0.3631756458116006}, {\"index\": \"2018-03-10T00:00:00\", \"value\": -1.2704740101948429}, {\"index\": \"2018-03-11T00:00:00\", \"value\": -1.218528614398704}, {\"index\": \"2018-03-12T00:00:00\", \"value\": -0.4894380522211671}, {\"index\": \"2018-03-13T00:00:00\", \"value\": -0.36045514146375646}, {\"index\": \"2018-03-14T00:00:00\", \"value\": 0.7789455430795442}, {\"index\": \"2018-03-15T00:00:00\", \"value\": -0.4558802772741084}, {\"index\": \"2018-03-16T00:00:00\", \"value\": -0.0535386360965594}, {\"index\": \"2018-03-17T00:00:00\", \"value\": -0.7383487270368726}, {\"index\": \"2018-03-18T00:00:00\", \"value\": -1.6091458762187543}, {\"index\": \"2018-03-19T00:00:00\", \"value\": -2.1879955409831697}, {\"index\": \"2018-03-20T00:00:00\", \"value\": -2.4995480731105424}, {\"index\": \"2018-03-21T00:00:00\", \"value\": -2.443382730880797}, {\"index\": \"2018-03-22T00:00:00\", \"value\": -3.6085325716641536}, {\"index\": \"2018-03-23T00:00:00\", \"value\": -2.7077060847099665}, {\"index\": \"2018-03-24T00:00:00\", \"value\": -2.242043644979507}, {\"index\": \"2018-03-25T00:00:00\", \"value\": -3.7782873312567307}, {\"index\": \"2018-03-26T00:00:00\", \"value\": -2.290035137461131}, {\"index\": \"2018-03-27T00:00:00\", \"value\": -0.3941459614305478}, {\"index\": \"2018-03-28T00:00:00\", \"value\": 0.7846336097291029}, {\"index\": \"2018-03-29T00:00:00\", \"value\": 0.604708773916752}, {\"index\": \"2018-03-30T00:00:00\", \"value\": -0.4660438475937905}, {\"index\": \"2018-03-31T00:00:00\", \"value\": 0.5884078793373462}, {\"index\": \"2018-04-01T00:00:00\", \"value\": 0.18523093236416655}, {\"index\": \"2018-04-02T00:00:00\", \"value\": 1.407676002746594}, {\"index\": \"2018-04-03T00:00:00\", \"value\": 1.6159509808234542}, {\"index\": \"2018-04-04T00:00:00\", \"value\": 2.5925900173071668}, {\"index\": \"2018-04-05T00:00:00\", \"value\": 2.9489564144815685}, {\"index\": \"2018-04-06T00:00:00\", \"value\": 3.6555295826735166}, {\"index\": \"2018-04-07T00:00:00\", \"value\": 3.666029603394337}, {\"index\": \"2018-04-08T00:00:00\", \"value\": 5.4519000973001726}, {\"index\": \"2018-04-09T00:00:00\", \"value\": 5.578812190003792}, {\"index\": \"2018-04-10T00:00:00\", \"value\": 5.980801553448494}]}}, {\"mode\": \"vega-lite\"});\n",
       "</script>"
      ],
      "text/plain": [
       "alt.Chart(...)"
      ]
     },
     "execution_count": 6,
     "metadata": {},
     "output_type": "execute_result"
    }
   ],
   "source": [
    "alt.Chart(data.reset_index()).mark_line().encode(\n",
    "    x='index:T',\n",
    "    y='value:Q'\n",
    ")"
   ]
  },
  {
   "cell_type": "markdown",
   "id": "e40a109c",
   "metadata": {},
   "source": [
    "### pandas data forms (long and wide)\n",
    "wide-form data has one row per independent variable, with metadata recorded in the row and column labels.\n",
    "\n",
    "long-form data has one row per observation, with metadata recorded within the table as values. Altair works with long-form data where each row corresponds to the single observation in the metadata.   \n",
    "\n",
    "Example of wide_form and long_form is provided below-"
   ]
  },
  {
   "cell_type": "code",
   "execution_count": 8,
   "id": "ec651f14",
   "metadata": {},
   "outputs": [
    {
     "name": "stdout",
     "output_type": "stream",
     "text": [
      "         Date    AAPL   AMZN    GOOG\n",
      "0  2007-10-01  189.95  89.15  707.00\n",
      "1  2007-11-01  182.22  90.56  693.00\n",
      "2  2007-12-01  198.08  92.64  691.48\n"
     ]
    }
   ],
   "source": [
    "# stock price of several companies over time\n",
    "wide_form = pd.DataFrame({'Date': ['2007-10-01', '2007-11-01', '2007-12-01'],\n",
    "                          'AAPL': [189.95, 182.22, 198.08],\n",
    "                          'AMZN': [89.15, 90.56, 92.64],\n",
    "                          'GOOG': [707.00, 693.00, 691.48]})\n",
    "print(wide_form)"
   ]
  },
  {
   "cell_type": "code",
   "execution_count": 9,
   "id": "b93e46eb",
   "metadata": {},
   "outputs": [
    {
     "name": "stdout",
     "output_type": "stream",
     "text": [
      "         Date company   price\n",
      "0  2007-10-01    AAPL  189.95\n",
      "1  2007-11-01    AAPL  182.22\n",
      "2  2007-12-01    AAPL  198.08\n",
      "3  2007-10-01    AMZN   89.15\n",
      "4  2007-11-01    AMZN   90.56\n",
      "5  2007-12-01    AMZN   92.64\n",
      "6  2007-10-01    GOOG  707.00\n",
      "7  2007-11-01    GOOG  693.00\n",
      "8  2007-12-01    GOOG  691.48\n"
     ]
    }
   ],
   "source": [
    "long_form = pd.DataFrame({'Date': ['2007-10-01', '2007-11-01', '2007-12-01',\n",
    "                                   '2007-10-01', '2007-11-01', '2007-12-01',\n",
    "                                   '2007-10-01', '2007-11-01', '2007-12-01'],\n",
    "                          'company': ['AAPL', 'AAPL', 'AAPL',\n",
    "                                      'AMZN', 'AMZN', 'AMZN',\n",
    "                                      'GOOG', 'GOOG', 'GOOG'],\n",
    "                          'price': [189.95, 182.22, 198.08,\n",
    "                                     89.15,  90.56,  92.64,\n",
    "                                    707.00, 693.00, 691.48]})\n",
    "print(long_form)"
   ]
  },
  {
   "cell_type": "markdown",
   "id": "b87478d0",
   "metadata": {},
   "source": [
    "# as altair works fine with long_form data. The example below illustrates the same. "
   ]
  },
  {
   "cell_type": "code",
   "execution_count": 10,
   "id": "e4b7d408",
   "metadata": {},
   "outputs": [
    {
     "data": {
      "text/html": [
       "\n",
       "<div id=\"altair-viz-fa0924fecf69440dac8315361dd99f37\"></div>\n",
       "<script type=\"text/javascript\">\n",
       "  var VEGA_DEBUG = (typeof VEGA_DEBUG == \"undefined\") ? {} : VEGA_DEBUG;\n",
       "  (function(spec, embedOpt){\n",
       "    let outputDiv = document.currentScript.previousElementSibling;\n",
       "    if (outputDiv.id !== \"altair-viz-fa0924fecf69440dac8315361dd99f37\") {\n",
       "      outputDiv = document.getElementById(\"altair-viz-fa0924fecf69440dac8315361dd99f37\");\n",
       "    }\n",
       "    const paths = {\n",
       "      \"vega\": \"https://cdn.jsdelivr.net/npm//vega@5?noext\",\n",
       "      \"vega-lib\": \"https://cdn.jsdelivr.net/npm//vega-lib?noext\",\n",
       "      \"vega-lite\": \"https://cdn.jsdelivr.net/npm//vega-lite@4.17.0?noext\",\n",
       "      \"vega-embed\": \"https://cdn.jsdelivr.net/npm//vega-embed@6?noext\",\n",
       "    };\n",
       "\n",
       "    function maybeLoadScript(lib, version) {\n",
       "      var key = `${lib.replace(\"-\", \"\")}_version`;\n",
       "      return (VEGA_DEBUG[key] == version) ?\n",
       "        Promise.resolve(paths[lib]) :\n",
       "        new Promise(function(resolve, reject) {\n",
       "          var s = document.createElement('script');\n",
       "          document.getElementsByTagName(\"head\")[0].appendChild(s);\n",
       "          s.async = true;\n",
       "          s.onload = () => {\n",
       "            VEGA_DEBUG[key] = version;\n",
       "            return resolve(paths[lib]);\n",
       "          };\n",
       "          s.onerror = () => reject(`Error loading script: ${paths[lib]}`);\n",
       "          s.src = paths[lib];\n",
       "        });\n",
       "    }\n",
       "\n",
       "    function showError(err) {\n",
       "      outputDiv.innerHTML = `<div class=\"error\" style=\"color:red;\">${err}</div>`;\n",
       "      throw err;\n",
       "    }\n",
       "\n",
       "    function displayChart(vegaEmbed) {\n",
       "      vegaEmbed(outputDiv, spec, embedOpt)\n",
       "        .catch(err => showError(`Javascript Error: ${err.message}<br>This usually means there's a typo in your chart specification. See the javascript console for the full traceback.`));\n",
       "    }\n",
       "\n",
       "    if(typeof define === \"function\" && define.amd) {\n",
       "      requirejs.config({paths});\n",
       "      require([\"vega-embed\"], displayChart, err => showError(`Error loading script: ${err.message}`));\n",
       "    } else {\n",
       "      maybeLoadScript(\"vega\", \"5\")\n",
       "        .then(() => maybeLoadScript(\"vega-lite\", \"4.17.0\"))\n",
       "        .then(() => maybeLoadScript(\"vega-embed\", \"6\"))\n",
       "        .catch(showError)\n",
       "        .then(() => displayChart(vegaEmbed));\n",
       "    }\n",
       "  })({\"config\": {\"view\": {\"continuousWidth\": 400, \"continuousHeight\": 300}}, \"data\": {\"name\": \"data-838ec4417e9a8df251f2031a5a48660b\"}, \"mark\": \"line\", \"encoding\": {\"color\": {\"field\": \"company\", \"type\": \"nominal\"}, \"x\": {\"field\": \"Date\", \"type\": \"temporal\"}, \"y\": {\"field\": \"price\", \"type\": \"quantitative\"}}, \"$schema\": \"https://vega.github.io/schema/vega-lite/v4.17.0.json\", \"datasets\": {\"data-838ec4417e9a8df251f2031a5a48660b\": [{\"Date\": \"2007-10-01\", \"company\": \"AAPL\", \"price\": 189.95}, {\"Date\": \"2007-11-01\", \"company\": \"AAPL\", \"price\": 182.22}, {\"Date\": \"2007-12-01\", \"company\": \"AAPL\", \"price\": 198.08}, {\"Date\": \"2007-10-01\", \"company\": \"AMZN\", \"price\": 89.15}, {\"Date\": \"2007-11-01\", \"company\": \"AMZN\", \"price\": 90.56}, {\"Date\": \"2007-12-01\", \"company\": \"AMZN\", \"price\": 92.64}, {\"Date\": \"2007-10-01\", \"company\": \"GOOG\", \"price\": 707.0}, {\"Date\": \"2007-11-01\", \"company\": \"GOOG\", \"price\": 693.0}, {\"Date\": \"2007-12-01\", \"company\": \"GOOG\", \"price\": 691.48}]}}, {\"mode\": \"vega-lite\"});\n",
       "</script>"
      ],
      "text/plain": [
       "alt.Chart(...)"
      ]
     },
     "execution_count": 10,
     "metadata": {},
     "output_type": "execute_result"
    }
   ],
   "source": [
    "alt.Chart(long_form).mark_line().encode(\n",
    "  x='Date:T',\n",
    "  y='price:Q',\n",
    "  color='company:N'\n",
    ")"
   ]
  },
  {
   "cell_type": "markdown",
   "id": "d01208bb",
   "metadata": {},
   "source": [
    "### we may use layered charts to visualize the long-form data https://altair-viz.github.io/user_guide/compound_charts.html#layer-chart"
   ]
  },
  {
   "cell_type": "markdown",
   "id": "04a4c322",
   "metadata": {},
   "source": [
    "the visualization in pandas can be done with reshaping and pivot tables. The details can be found using this documentation\n",
    "https://pandas.pydata.org/pandas-docs/stable/user_guide/reshaping.html \n",
    "\n",
    "with melt() method of pandas, long form can be transfered form wide to long format. the documentation can be found here https://pandas.pydata.org/pandas-docs/stable/reference/api/pandas.DataFrame.melt.html"
   ]
  },
  {
   "cell_type": "markdown",
   "id": "c2b87a4c",
   "metadata": {},
   "source": [
    "another method in pandas is pivot() which converts long format back to the wide format. the documentation can be found here\n",
    "https://pandas.pydata.org/pandas-docs/stable/reference/api/pandas.DataFrame.pivot.html "
   ]
  },
  {
   "cell_type": "markdown",
   "id": "51d32627",
   "metadata": {},
   "source": [
    "### to avoid the data pre-processing, we use altair's fold transformaiton. herein, we convert the wide-form data to the \n",
    "### long-form data. documentation- https://altair-viz.github.io/user_guide/transform/fold.html#user-guide-fold-transform \n",
    "\n",
    "\n",
    "here is an example of the fold transformaiton"
   ]
  },
  {
   "cell_type": "code",
   "execution_count": 11,
   "id": "9294b192",
   "metadata": {},
   "outputs": [
    {
     "data": {
      "text/html": [
       "\n",
       "<div id=\"altair-viz-a7c3ac6c490d49c8ae77f8b88187a9e8\"></div>\n",
       "<script type=\"text/javascript\">\n",
       "  var VEGA_DEBUG = (typeof VEGA_DEBUG == \"undefined\") ? {} : VEGA_DEBUG;\n",
       "  (function(spec, embedOpt){\n",
       "    let outputDiv = document.currentScript.previousElementSibling;\n",
       "    if (outputDiv.id !== \"altair-viz-a7c3ac6c490d49c8ae77f8b88187a9e8\") {\n",
       "      outputDiv = document.getElementById(\"altair-viz-a7c3ac6c490d49c8ae77f8b88187a9e8\");\n",
       "    }\n",
       "    const paths = {\n",
       "      \"vega\": \"https://cdn.jsdelivr.net/npm//vega@5?noext\",\n",
       "      \"vega-lib\": \"https://cdn.jsdelivr.net/npm//vega-lib?noext\",\n",
       "      \"vega-lite\": \"https://cdn.jsdelivr.net/npm//vega-lite@4.17.0?noext\",\n",
       "      \"vega-embed\": \"https://cdn.jsdelivr.net/npm//vega-embed@6?noext\",\n",
       "    };\n",
       "\n",
       "    function maybeLoadScript(lib, version) {\n",
       "      var key = `${lib.replace(\"-\", \"\")}_version`;\n",
       "      return (VEGA_DEBUG[key] == version) ?\n",
       "        Promise.resolve(paths[lib]) :\n",
       "        new Promise(function(resolve, reject) {\n",
       "          var s = document.createElement('script');\n",
       "          document.getElementsByTagName(\"head\")[0].appendChild(s);\n",
       "          s.async = true;\n",
       "          s.onload = () => {\n",
       "            VEGA_DEBUG[key] = version;\n",
       "            return resolve(paths[lib]);\n",
       "          };\n",
       "          s.onerror = () => reject(`Error loading script: ${paths[lib]}`);\n",
       "          s.src = paths[lib];\n",
       "        });\n",
       "    }\n",
       "\n",
       "    function showError(err) {\n",
       "      outputDiv.innerHTML = `<div class=\"error\" style=\"color:red;\">${err}</div>`;\n",
       "      throw err;\n",
       "    }\n",
       "\n",
       "    function displayChart(vegaEmbed) {\n",
       "      vegaEmbed(outputDiv, spec, embedOpt)\n",
       "        .catch(err => showError(`Javascript Error: ${err.message}<br>This usually means there's a typo in your chart specification. See the javascript console for the full traceback.`));\n",
       "    }\n",
       "\n",
       "    if(typeof define === \"function\" && define.amd) {\n",
       "      requirejs.config({paths});\n",
       "      require([\"vega-embed\"], displayChart, err => showError(`Error loading script: ${err.message}`));\n",
       "    } else {\n",
       "      maybeLoadScript(\"vega\", \"5\")\n",
       "        .then(() => maybeLoadScript(\"vega-lite\", \"4.17.0\"))\n",
       "        .then(() => maybeLoadScript(\"vega-embed\", \"6\"))\n",
       "        .catch(showError)\n",
       "        .then(() => displayChart(vegaEmbed));\n",
       "    }\n",
       "  })({\"config\": {\"view\": {\"continuousWidth\": 400, \"continuousHeight\": 300}}, \"data\": {\"name\": \"data-0262b56fd1a535ea9c867d2322ea5232\"}, \"mark\": \"line\", \"encoding\": {\"color\": {\"field\": \"company\", \"type\": \"nominal\"}, \"x\": {\"field\": \"Date\", \"type\": \"temporal\"}, \"y\": {\"field\": \"price\", \"type\": \"quantitative\"}}, \"transform\": [{\"fold\": [\"AAPL\", \"AMZN\", \"GOOG\"], \"as\": [\"company\", \"price\"]}], \"$schema\": \"https://vega.github.io/schema/vega-lite/v4.17.0.json\", \"datasets\": {\"data-0262b56fd1a535ea9c867d2322ea5232\": [{\"Date\": \"2007-10-01\", \"AAPL\": 189.95, \"AMZN\": 89.15, \"GOOG\": 707.0}, {\"Date\": \"2007-11-01\", \"AAPL\": 182.22, \"AMZN\": 90.56, \"GOOG\": 693.0}, {\"Date\": \"2007-12-01\", \"AAPL\": 198.08, \"AMZN\": 92.64, \"GOOG\": 691.48}]}}, {\"mode\": \"vega-lite\"});\n",
       "</script>"
      ],
      "text/plain": [
       "alt.Chart(...)"
      ]
     },
     "execution_count": 11,
     "metadata": {},
     "output_type": "execute_result"
    }
   ],
   "source": [
    "alt.Chart(wide_form).transform_fold(\n",
    "    ['AAPL', 'AMZN', 'GOOG'],\n",
    "    as_=['company', 'price']\n",
    ").mark_line().encode(\n",
    "    x='Date:T',\n",
    "    y='price:Q',\n",
    "    color='company:N'\n",
    ")"
   ]
  },
  {
   "cell_type": "markdown",
   "id": "0f8fd718",
   "metadata": {},
   "source": [
    "### 3 cases of generated data (generate data for display within the chart specification)-\n",
    "1) Sequence\n",
    "2) graticule \n",
    "2) sphere\n",
    "\n",
    "\n",
    "documentation- https://altair-viz.github.io/user_guide/data.html#id1"
   ]
  }
 ],
 "metadata": {
  "kernelspec": {
   "display_name": "Python 3 (ipykernel)",
   "language": "python",
   "name": "python3"
  },
  "language_info": {
   "codemirror_mode": {
    "name": "ipython",
    "version": 3
   },
   "file_extension": ".py",
   "mimetype": "text/x-python",
   "name": "python",
   "nbconvert_exporter": "python",
   "pygments_lexer": "ipython3",
   "version": "3.10.9"
  }
 },
 "nbformat": 4,
 "nbformat_minor": 5
}
