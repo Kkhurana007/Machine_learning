{
 "cells": [
  {
   "cell_type": "markdown",
   "id": "cf915e96",
   "metadata": {},
   "source": [
    "# what is exploratory data analysis?\n",
    "Foundation stone of data analysis\n",
    "process of organizing, plotting, and summarizing the dataset"
   ]
  },
  {
   "cell_type": "code",
   "execution_count": null,
   "id": "b75e311d",
   "metadata": {},
   "outputs": [],
   "source": [
    "import pandas as pd\n",
    "import matplotlib.pyplot as plt\n",
    "df_swing = pd.read_csv('2008_swing_states_csv')\n",
    "df_swing [['state', 'country', 'dem_share']]"
   ]
  },
  {
   "cell_type": "code",
   "execution_count": null,
   "id": "81d52d9f",
   "metadata": {},
   "outputs": [],
   "source": [
    "# generating a histogram\n",
    "\n",
    "import matplotlib.pyplot as plt\n",
    "_ = plt.hist(df_swing['dem_share'], bins = 20)\n",
    "_ = plt.xlabel ('percent of vote for Obama')\n",
    "_ = plt.ylabel ('number of countries')\n",
    "plt.show()"
   ]
  },
  {
   "cell_type": "code",
   "execution_count": null,
   "id": "7b851343",
   "metadata": {},
   "outputs": [],
   "source": [
    "# for this course, we could use numpy arrays and DataFrames interchangeably\n",
    "# Assigning a dummy variable in python is a common practice\n",
    "\n",
    "\n",
    "# Seaborn \n",
    "(a matplotlib based statistical data visualization package written by michael waskom)\n",
    "\n",
    "# A better and nicely formatted plots can be made with this \n",
    "\n",
    "import seaborn as sns\n",
    "sns.set()                            #default function\n",
    "_= plt.hist(df_swing['dem_share'])\n",
    "_ = plt.xlabel('percent of votes for Kunal')\n",
    "_ = plt.ylabel ('number of countries voting')\n",
    "plt.show()"
   ]
  },
  {
   "cell_type": "code",
   "execution_count": null,
   "id": "7ab54400",
   "metadata": {},
   "outputs": [],
   "source": [
    "sklearn.datasets.load_iris(*, return_X_y=False, as_frame=False)"
   ]
  },
  {
   "cell_type": "code",
   "execution_count": null,
   "id": "1ca85286",
   "metadata": {},
   "outputs": [],
   "source": [
    "from sklearn.datasets import load_iris\n",
    "data = load_iris()\n",
    "data.target[[10, 25, 50]]\n",
    "\n",
    "list(data.target_names)"
   ]
  },
  {
   "cell_type": "markdown",
   "id": "b9da514f",
   "metadata": {},
   "source": [
    "\n",
    "# Import plotting modules\n",
    "import seaborn as sns\n",
    "import matplotlib.pyplot as plt\n",
    "\n",
    "# Set default Seaborn style\n",
    "sns.set()\n",
    "\n",
    "# Plot histogram of versicolor petal lengths\n",
    "_ = plt.hist(versicolor_petal_length)\n",
    "\n",
    "# Show histogram\n",
    "plt.show()"
   ]
  },
  {
   "cell_type": "markdown",
   "id": "abeb9240",
   "metadata": {},
   "source": [
    "# Import numpy\n",
    "import numpy as np\n",
    "\n",
    "# Compute number of data points: n_data\n",
    "n_data = len(versicolor_petal_length)\n",
    "\n",
    "# Number of bins is the square root of number of data points: n_bins\n",
    "n_bins = np.sqrt(n_data)\n",
    "\n",
    "# Convert number of bins to integer: n_bins\n",
    "n_bins = int(n_bins)\n",
    "\n",
    "# Plot the histogram\n",
    "_ = plt.hist(versicolor_petal_length, bins=n_bins)\n",
    "\n",
    "# Label axes\n",
    "_ = plt.xlabel('petal length (cm)')\n",
    "_ = plt.ylabel('count')\n",
    "\n",
    "# Show histogram\n",
    "plt.show()"
   ]
  },
  {
   "cell_type": "code",
   "execution_count": null,
   "id": "03e6e82b",
   "metadata": {},
   "outputs": [],
   "source": []
  },
  {
   "cell_type": "code",
   "execution_count": null,
   "id": "bd9f5565",
   "metadata": {},
   "outputs": [],
   "source": []
  },
  {
   "cell_type": "markdown",
   "id": "6b2604c0",
   "metadata": {},
   "source": [
    "# problems with histograms-\n",
    "1) Binning problems (depending on the number of bins chosen, the hist may look differently)\n",
    "2) sweeping the data into bins, looses their value\n",
    "\n",
    "# To remediate this, we use bee swarm plots\n",
    "\n",
    "# generating a bee swarm plot\n",
    "_ = sns.swarmplot(x = 'state', y ='dem_share', data = df_swing)    #df = DataFrame that contains the data\n",
    "\n",
    "\n",
    "_ = plt.xlabel('state')\n",
    "\n",
    "\n",
    "_ = plt.ylabel('percent of vote for Obama')\n",
    "\n",
    "\n",
    "plt.show()"
   ]
  },
  {
   "cell_type": "code",
   "execution_count": null,
   "id": "5c0267a7",
   "metadata": {},
   "outputs": [],
   "source": [
    "import seaborn as sns\n",
    "help (sns.swarmplot)"
   ]
  },
  {
   "cell_type": "markdown",
   "id": "8e21b9c6",
   "metadata": {},
   "source": [
    "# Create bee swarm plot with Seaborn's default settings\n",
    "\n",
    "\n",
    "df.head()               # to know the data of first 5 rows\n",
    "\n",
    "\n",
    "\n",
    "\n",
    "_= sns.swarmplot(x='species', y='petal length (cm)', data = df)\n",
    "\n",
    "\n",
    "\n",
    "# Label the axes\n",
    "_ = plt.xlabel('three species')\n",
    "\n",
    "\n",
    "\n",
    "_= plt.ylabel('petal length(cm)')\n",
    "\n",
    "# Show the plot\n",
    "plt.show()\n"
   ]
  },
  {
   "cell_type": "code",
   "execution_count": null,
   "id": "020468b2",
   "metadata": {},
   "outputs": [],
   "source": []
  },
  {
   "cell_type": "code",
   "execution_count": null,
   "id": "d07e18ec",
   "metadata": {},
   "outputs": [],
   "source": []
  },
  {
   "cell_type": "markdown",
   "id": "aa024946",
   "metadata": {},
   "source": [
    "# problems with beeswarm plots \n",
    "\n",
    "The edges are overlapping data when the data is huge, so we use empirical cumulative distribution function (ECDF) to over come this. "
   ]
  },
  {
   "cell_type": "code",
   "execution_count": null,
   "id": "0eef8184",
   "metadata": {},
   "outputs": [],
   "source": [
    "# ECDF plots\n",
    "\n",
    "import numpy as np\n",
    "x = np.sort(df_swing  ['dem_share'])        # dataframe and name of data\n",
    "y = np.arange(1, len(x)+ 1/len(x))           # we use arange function here, with maxmimum value of y = 1\n",
    "\n",
    "# plotting the graph\n",
    "\n",
    "_ = plt.plot(x,y, marker= '.', linestyle = 'none')\n",
    "_ = plt.xlabel('percent of vote for Obama')\n",
    "_ = plt.ylabel('ECDF')\n",
    "\n",
    "# keeping data off plot edges\n",
    "plt.margins(0.02)\n",
    "plt.show()"
   ]
  },
  {
   "cell_type": "code",
   "execution_count": null,
   "id": "0126e5fc",
   "metadata": {},
   "outputs": [],
   "source": []
  },
  {
   "cell_type": "code",
   "execution_count": null,
   "id": "8da89cce",
   "metadata": {},
   "outputs": [],
   "source": [
    "# sample solution \n",
    "\n",
    "def ecdf(data):\n",
    "    \"\"\"Compute ECDF for a one-dimensional array of measurements.\"\"\"\n",
    "    # Number of data points: n\n",
    "    n = len(data) \n",
    "\n",
    "    # x-data for the ECDF: x\n",
    "    x = np.sort (data)\n",
    "\n",
    "    # y-data for the ECDF: y\n",
    "    y = np.arange (1, n+1)  / n\n",
    "\n",
    "    return x, y\n"
   ]
  },
  {
   "cell_type": "markdown",
   "id": "86fac056",
   "metadata": {},
   "source": [
    "Use ecdf() to compute the ECDF of versicolor_petal_length. Unpack the output into x_vers and y_vers.\n",
    "Plot the ECDF as dots. Remember to include marker = '.' and linestyle = 'none' in addition to x_vers and y_vers as arguments inside plt.plot().\n",
    "Label the axes. You can label the y-axis 'ECDF'.\n",
    "Show your plot.\n",
    "\n",
    "\n",
    "# Compute ECDF for versicolor data: x_vers, y_vers\n",
    "x_vers, y_vers = ecdf (versicolor_petal_length)\n",
    "\n",
    "# Generate plot\n",
    "_ = plt.plot(x_vers, y_vers, marker = '.', linestyle = 'none')\n",
    "\n",
    "# Label the axes\n",
    "_ = plt.xlabel ('petal length (cm)')\n",
    "_ = plt.ylabel ('ECDF')\n",
    "\n",
    "# Display the plot\n",
    "plt.show()"
   ]
  },
  {
   "cell_type": "code",
   "execution_count": null,
   "id": "5b26cb17",
   "metadata": {},
   "outputs": [],
   "source": [
    "# calculte mean and median of beeswarm plots\n",
    "\n",
    "import numpy as np\n",
    "np.mean(filename)               # mean\n",
    "\n",
    "np.median(filename)             #median\n",
    "\n",
    "#percentiles, outliers, and box-plots\n",
    "\n",
    "import matplotlib.pyplot as plt\n",
    "import seaborn as sns\n",
    "_= sns.boxplots (x= 'east_west', y= 'north_west', data= df_filename)\n",
    "\n",
    "_ = plt.xlabel ('abc')\n",
    "_ = plt.ylabel ('pourquoi')\n",
    "_ = plt.show()\n"
   ]
  },
  {
   "cell_type": "markdown",
   "id": "b0acf72c",
   "metadata": {},
   "source": [
    "### Plot the percentiles as red diamonds on the ECDF. Pass the x and y co-ordinates - ptiles_vers and percentiles/100 - as positional arguments and specify the marker='D', color='red' and linestyle='none' keyword arguments. The argument for the y-axis - percentiles/100 has been specified for you.\n",
    "\n",
    "\n",
    "\n",
    "# Plot the ECDF\n",
    "_ = plt.plot(x_vers, y_vers, '.')\n",
    "\n",
    "_ = plt.xlabel('petal length (cm)')\n",
    "\n",
    "\n",
    "_ = plt.ylabel('ECDF')\n",
    "\n",
    "# Overlay percentiles as red diamonds.\n",
    "_ = plt.plot(ptiles_vers, percentiles/100, marker='D', color='red',\n",
    "         linestyle='none')\n",
    "\n",
    "# Show the plot\n",
    "plt.show()\n"
   ]
  },
  {
   "cell_type": "markdown",
   "id": "51ba9759",
   "metadata": {},
   "source": [
    "### The set-up is exactly the same as for the bee swarm plot; you just call sns.boxplot() with the same keyword arguments as you would sns.swarmplot(). The x-axis is 'species' and y-axis is 'petal length (cm)'.\n",
    "Don't forget to label your axes!\n",
    "Display the figure using the normal call.\n",
    "\n",
    "# Create box plot with Seaborn's default settings\n",
    "_ = sns.boxplot(x='species', y='petal length (cm)', data=df)\n",
    "\n",
    "# Label the axes\n",
    "_ = plt.xlabel('species')\n",
    "_ = plt.ylabel('petal length (cm)')\n",
    "\n",
    "# Show the plot\n",
    "plt.show()\n",
    "\n",
    "\n",
    "\n",
    "## Doubt- is the name of the DataFrame always stored in df? why or why not?"
   ]
  },
  {
   "cell_type": "code",
   "execution_count": null,
   "id": "de867c04",
   "metadata": {},
   "outputs": [],
   "source": []
  },
  {
   "cell_type": "markdown",
   "id": "7b57ca24",
   "metadata": {},
   "source": [
    "# Detailed and simplified way of calculating the variance\n",
    "## Create an array called differences that is the difference between the petal lengths (versicolor_petal_length) and the mean petal length. The variable versicolor_petal_length is already in your namespace as a NumPy array so you can take advantage of NumPy's vectorized operations.\n",
    "### Square each element in this array. For example, x**2 squares each element in the array x. Store the result as diff_sq.\n",
    "Compute the mean of the elements in diff_sq using np.mean(). Store the result as variance_explicit.\n",
    "Compute the variance of versicolor_petal_length using np.var(). Store the result as variance_np.\n",
    "Print both variance_explicit and variance_np in one print call to make sure they are consistent.\n",
    "\n",
    "# Array of differences to mean: differences\n",
    "np_mean = np.mean(versicolor_petal_length)\n",
    "differences = np.array(versicolor_petal_length - np_mean)\n",
    "\n",
    "# Square the differences: diff_sq\n",
    "diff_sq = differences ** 2\n",
    "\n",
    "# Compute the mean square difference: variance_explicit\n",
    "variance_explicit = np.mean(diff_sq)\n",
    "\n",
    "# Compute the variance using NumPy: variance_np\n",
    "variance_np = np.var(versicolor_petal_length)\n",
    "\n",
    "# Print the results\n",
    "print (variance_explicit)\n",
    "print (variance_np)\n"
   ]
  },
  {
   "cell_type": "code",
   "execution_count": null,
   "id": "d666b90f",
   "metadata": {},
   "outputs": [],
   "source": []
  },
  {
   "cell_type": "markdown",
   "id": "aaf015e9",
   "metadata": {},
   "source": [
    "### Use plt.plot() with the appropriate keyword arguments to make a scatter plot of versicolor petal length (x-axis) versus petal width (y-axis). The variables versicolor_petal_length and versicolor_petal_width are already in your namespace. Do not forget to use the marker='.' and linestyle='none' keyword arguments.\n",
    "Label the axes.\n",
    "Display the plot.\n",
    "\n",
    "## Make a scatter plot\n",
    "plt.plot ( versicolor_petal_length, versicolor_petal_width, marker = '.', linestyle= 'none')\n",
    "\n",
    "\n",
    "\n",
    "## Label the axes\n",
    "_ = plt.xlabel ('petal_lenght')\n",
    "_ = plt.ylabel ('petal_width')\n",
    "\n",
    "\n",
    "## Show the result\n",
    "plt.show()\n",
    "\n",
    "# Remark- we just use plt.plot to make scatter plots"
   ]
  },
  {
   "cell_type": "code",
   "execution_count": null,
   "id": "2503c566",
   "metadata": {},
   "outputs": [],
   "source": []
  },
  {
   "cell_type": "markdown",
   "id": "8cfbcfc6",
   "metadata": {},
   "source": [
    "### Use np.cov() to compute the covariance matrix for the petal length (versicolor_petal_length) and width (versicolor_petal_width) of I. versicolor.\n",
    "### Print the covariance matrix.\n",
    "### Extract the covariance from entry [0,1] of the covariance matrix. Note that by symmetry, entry [1,0] is the same as entry [0,1].\n",
    "### Print the covariance.\n",
    "\n",
    "\n",
    "# Compute the covariance matrix: covariance_matrix\n",
    "covariance_matrix = np.cov(versicolor_petal_length, versicolor_petal_width)\n",
    "\n",
    "cov_matrix = cov(a,b) \n",
    "\n",
    "# Print covariance matrix\n",
    "print(covariance_matrix)\n",
    "\n",
    "# Extract covariance of length and width of petals: petal_cov\n",
    "petal_cov = covariance_matrix[0,1]\n",
    "\n",
    "# Print the length/width covariance\n",
    "print(petal_cov)"
   ]
  },
  {
   "cell_type": "code",
   "execution_count": null,
   "id": "daaf9db1",
   "metadata": {},
   "outputs": [],
   "source": []
  },
  {
   "cell_type": "markdown",
   "id": "99b291de",
   "metadata": {},
   "source": [
    "# Define a function with signature pearson_r(x, y).\n",
    "Use np.corrcoef() to compute the correlation matrix of x and y (pass them to np.corrcoef() in that order).\n",
    "The function returns entry [0,1] of the correlation matrix.\n",
    "Compute the Pearson correlation between the data in the arrays versicolor_petal_length and versicolor_petal_width. Assign the result to r.\n",
    "Print the result.\n",
    "\n",
    "\n",
    "def pearson_r(x, y) :\n",
    "    \"\"\"Compute Pearson correlation coefficient between two arrays.\"\"\"\n",
    "    # Compute correlation matrix: corr_mat\n",
    "    corr_mat = np.corrcoef(x,y)\n",
    "\n",
    "    # Return entry [0,1]\n",
    "    return corr_mat[0,1]\n",
    "\n",
    "# Compute Pearson correlation coefficient for I. versicolor: r\n",
    "r = pearson_r(versicolor_petal_width, versicolor_petal_length)\n",
    "\n",
    "# Print the result\n",
    "print(r)"
   ]
  },
  {
   "cell_type": "code",
   "execution_count": null,
   "id": "f08fb7a8",
   "metadata": {},
   "outputs": [],
   "source": []
  },
  {
   "cell_type": "markdown",
   "id": "4af9db07",
   "metadata": {},
   "source": [
    "# probabilistic logic and statistical inference"
   ]
  },
  {
   "cell_type": "code",
   "execution_count": null,
   "id": "5d1d5a70",
   "metadata": {},
   "outputs": [],
   "source": [
    "# hacker statistics\n",
    "# np.random.random()                                   #random number generator\n",
    "\n",
    "# bernoulli trial\n",
    "\n",
    "# random number seed () ---# np.random.seed()\n",
    "\n",
    "# simulating 4 coin flips \n",
    "import numpy as np\n",
    "np.random.seed(123)\n",
    "random_numbers = np.random.random(size = 4)                #size is used to determine the number of outputs\n",
    "print (random_numbers)"
   ]
  },
  {
   "cell_type": "code",
   "execution_count": null,
   "id": "593f7f98",
   "metadata": {},
   "outputs": [],
   "source": [
    "# turn it into head and tail.\n",
    "heads = random_numbers < 0.5\n",
    "heads"
   ]
  },
  {
   "cell_type": "code",
   "execution_count": null,
   "id": "8957f007",
   "metadata": {},
   "outputs": [],
   "source": [
    "if random_numbers > 0.5:\n",
    "    print (heads)\n",
    "else :\n",
    "    print (tails)"
   ]
  },
  {
   "cell_type": "code",
   "execution_count": null,
   "id": "64d6e735",
   "metadata": {},
   "outputs": [],
   "source": [
    "np.sum(heads)    # in numerical context python treats true as 1 and false as 0"
   ]
  },
  {
   "cell_type": "code",
   "execution_count": null,
   "id": "a223915c",
   "metadata": {},
   "outputs": [],
   "source": [
    "# simulating 4 coins flips, maybe can be called random walk \n",
    "#probibility of getting all the 4 heads\n",
    "\n",
    "n_all_heads = 0   # intialize number of 4 heads trials\n",
    "for _ in range (10000):\n",
    "    tails = np.random.random(size= 4) < 0.5\n",
    "    n_tails = np.sum(tails)\n",
    "    if n_tails == 4:\n",
    "        n_all_heads += 1\n",
    "        \n",
    "n_all_heads / 10000"
   ]
  },
  {
   "cell_type": "code",
   "execution_count": null,
   "id": "79b8b934",
   "metadata": {},
   "outputs": [],
   "source": [
    "n_wins = 0          # probibility of winning all the 6 tournanments \n",
    "for _ in range (100):\n",
    "    win = np.random.random(size = 6) < 0.5\n",
    "    n_wins = np.sum(win)\n",
    "    if n_wins == 6:\n",
    "        n_all_wins += 1\n",
    "        \n",
    "n_all_wins / 100\n",
    "        "
   ]
  },
  {
   "cell_type": "code",
   "execution_count": null,
   "id": "3311b363",
   "metadata": {},
   "outputs": [],
   "source": [
    "# probibility that u will visit india if u succeed in three planned goals\n",
    "\n",
    "n_all_go = 0 \n",
    "\n",
    "for _ in range (10000):\n",
    "    go = np.random.random(size = 3) <0.5\n",
    "    if n_go = np.sum(go):\n",
    "        n_all_go += 1\n",
    "        \n",
    "n_all_go /10000\n"
   ]
  },
  {
   "cell_type": "code",
   "execution_count": null,
   "id": "6b34e338",
   "metadata": {},
   "outputs": [],
   "source": [
    "import numpy as np\n",
    "np.random.seed(124)\n",
    "random_numbers = np.random.random(size = 4)\n",
    "random_numbers"
   ]
  },
  {
   "cell_type": "code",
   "execution_count": null,
   "id": "b9b7a691",
   "metadata": {},
   "outputs": [],
   "source": [
    "go = random_numbers < 0.5\n",
    "go"
   ]
  },
  {
   "cell_type": "code",
   "execution_count": null,
   "id": "ca7bffb0",
   "metadata": {},
   "outputs": [],
   "source": [
    "np.sum(go)"
   ]
  },
  {
   "cell_type": "code",
   "execution_count": null,
   "id": "bb7e27e0",
   "metadata": {},
   "outputs": [],
   "source": [
    "n_all_go = 0\n",
    "\n",
    "for _ in range (10000):\n",
    "    go = np.random.random(size = 2) < 0.5\n",
    "    n_go = np.sum(go)\n",
    "    if n_go == 2:\n",
    "        n_all_go += 1\n",
    "        \n",
    "\n",
    "\n",
    "n_all_go / 10000"
   ]
  },
  {
   "cell_type": "code",
   "execution_count": null,
   "id": "980a0d8c",
   "metadata": {},
   "outputs": [],
   "source": [
    "# hacker statistics is used to stimulate the data;\n",
    "# stimulate it many-2 times\n",
    "\n",
    "np.random.random()"
   ]
  },
  {
   "cell_type": "code",
   "execution_count": null,
   "id": "c8709a41",
   "metadata": {},
   "outputs": [],
   "source": [
    "np.random.random(4)"
   ]
  },
  {
   "cell_type": "code",
   "execution_count": null,
   "id": "43da4ab1",
   "metadata": {},
   "outputs": [],
   "source": [
    "np.random.random(size = 4)"
   ]
  },
  {
   "cell_type": "markdown",
   "id": "76f6c4ce",
   "metadata": {},
   "source": [
    "Seed the random number generator using the seed 42.\n",
    "Initialize an empty array, random_numbers, of 100,000 entries to store the random numbers. Make sure you use np.empty(100000) to do this.\n",
    "Write a for loop to draw 100,000 random numbers using np.random.random(), storing them in the random_numbers array. To do so, loop over range(100000).\n",
    "Plot a histogram of random_numbers. It is not necessary to label the axes in this case because we are just checking the random number generator. Hit submit to show your plot.\n",
    "\n",
    "# Seed the random number generator\n",
    "np.random.seed(42)\n",
    "\n",
    "\n",
    "# Initialize random numbers: random_numbers\n",
    "random_numbers = np.empty(100000)\n",
    "\n",
    "# Generate random numbers by looping over range(100000)\n",
    "for i in range (100000):\n",
    "    random_numbers[i] = np.random.random()\n",
    "\n",
    "# Plot a histogram\n",
    "_ = plt.hist(random_numbers)\n",
    "\n",
    "# Show the plot\n",
    "plt.show()\n",
    "\n"
   ]
  },
  {
   "cell_type": "code",
   "execution_count": null,
   "id": "d5b5fb4b",
   "metadata": {},
   "outputs": [],
   "source": []
  },
  {
   "cell_type": "code",
   "execution_count": null,
   "id": "9d2acf4d",
   "metadata": {},
   "outputs": [],
   "source": [
    "# initializing the number of successes with bernauli trails-\n",
    "\n",
    "def perfom_bernauli_trails (n,p):\n",
    "    n_suc = 0\n",
    "# trail\n",
    "    for i in range (n):\n",
    "    random_number = np.random.random()\n",
    "# if less than p, its a success; add to n_success\n",
    "        if random_number < p:\n",
    "        n_suc += 1\n",
    "    return n_suc"
   ]
  },
  {
   "cell_type": "code",
   "execution_count": null,
   "id": "22e02f69",
   "metadata": {},
   "outputs": [],
   "source": []
  },
  {
   "cell_type": "markdown",
   "id": "fea71da9",
   "metadata": {},
   "source": [
    "# Let's clear some doubts about a 'for'  loop-"
   ]
  },
  {
   "cell_type": "markdown",
   "id": "b2c108a6",
   "metadata": {},
   "source": [
    "    # difference of a 'for' loop over a 'while' loop is that, a 'for' loop iterates over a limited number of times, 'while' \n",
    "    # loop continues until infinity (or a certain condition is reached)\n",
    "\n",
    "# Syntax for a 'for' loop\n",
    "\n",
    "    for i in range:\n",
    "        statement 1\n",
    "        statement 2\n",
    "        ,\n",
    "        ,\n",
    "        statement n\n",
    "        "
   ]
  },
  {
   "cell_type": "code",
   "execution_count": null,
   "id": "ef37f55a",
   "metadata": {},
   "outputs": [],
   "source": [
    "# print numbers from 1 to 10\n",
    "\n",
    "for i in range(10):\n",
    "    print (i)"
   ]
  },
  {
   "cell_type": "code",
   "execution_count": 12,
   "id": "166c9241",
   "metadata": {},
   "outputs": [
    {
     "name": "stdout",
     "output_type": "stream",
     "text": [
      "90\n"
     ]
    }
   ],
   "source": [
    "# sum of even numbers from 10 to 20\n",
    "\n",
    "sum = 0\n",
    "for j in range(10, 22, 2):\n",
    "    sum = sum + j\n",
    "print (sum)"
   ]
  },
  {
   "cell_type": "code",
   "execution_count": null,
   "id": "d06e3155",
   "metadata": {},
   "outputs": [],
   "source": []
  },
  {
   "cell_type": "code",
   "execution_count": null,
   "id": "472c6528",
   "metadata": {},
   "outputs": [],
   "source": [
    "# use a 'for' loop to calculate the square of each number in a list\n",
    "import numpy as np\n",
    "numbers = np.range(1,5,2)\n",
    "print (numbers)"
   ]
  },
  {
   "cell_type": "code",
   "execution_count": 20,
   "id": "c9f78601",
   "metadata": {},
   "outputs": [
    {
     "name": "stdout",
     "output_type": "stream",
     "text": [
      "square of:  1 is:  1\n",
      "square of:  2 is:  4\n",
      "square of:  3 is:  9\n",
      "square of:  4 is:  16\n",
      "square of:  5 is:  25\n"
     ]
    }
   ],
   "source": [
    "# iterating over each element in the list with the 'for' loop\n",
    "\n",
    "numbers = [1, 2, 3, 4, 5]\n",
    "for i in numbers:\n",
    "    square = i ** 2\n",
    "    print ('square', 'of: ', i , 'is: ', square)"
   ]
  },
  {
   "cell_type": "code",
   "execution_count": 23,
   "id": "68671334",
   "metadata": {},
   "outputs": [
    {
     "name": "stdout",
     "output_type": "stream",
     "text": [
      "cube of: 1 is 1\n",
      "cube of: 2 is 8\n",
      "cube of: 3 is 27\n",
      "cube of: 4 is 64\n",
      "cube of: 5 is 125\n"
     ]
    }
   ],
   "source": [
    "# iterate over cube of numbers in a list\n",
    "\n",
    "for y in numbers :\n",
    "    cube = y ** 3\n",
    "    print ('cube of:', y, 'is', cube)"
   ]
  },
  {
   "cell_type": "markdown",
   "id": "ef6982f4",
   "metadata": {},
   "source": [
    "# Start from why we use a 'for' loop? "
   ]
  },
  {
   "cell_type": "code",
   "execution_count": null,
   "id": "f56e9e56",
   "metadata": {},
   "outputs": [],
   "source": []
  }
 ],
 "metadata": {
  "kernelspec": {
   "display_name": "Python 3",
   "language": "python",
   "name": "python3"
  },
  "language_info": {
   "codemirror_mode": {
    "name": "ipython",
    "version": 3
   },
   "file_extension": ".py",
   "mimetype": "text/x-python",
   "name": "python",
   "nbconvert_exporter": "python",
   "pygments_lexer": "ipython3",
   "version": "3.8.8"
  }
 },
 "nbformat": 4,
 "nbformat_minor": 5
}
